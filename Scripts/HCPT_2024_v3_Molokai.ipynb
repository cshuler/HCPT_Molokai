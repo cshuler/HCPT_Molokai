{
 "cells": [
  {
   "cell_type": "markdown",
   "metadata": {},
   "source": [
    "# The Hawaii Cesspool Hazard Assessment & Prioritization Tool:\n",
    "# Molokai Version 3\n",
    "\n",
    "\n",
    "## ................................................ Code Notebook ................................................\n",
    "*September 2024*\n",
    "\n",
    "**Prepared For:** \n",
    "NOAA Coastal Zone Management Progam\n",
    "\n",
    "**Principal Investigator and Primary Software Developer** \n",
    "- Christopher Shuler Ph.D., Shuler Hydrologic LLC\n"
   ]
  },
  {
   "cell_type": "markdown",
   "metadata": {},
   "source": [
    "### Highlights for Version 3\n",
    "- Updated using existing methodology to include the island of Molokai\n",
    "- Using a digital ocean space cloud storage bucket to reference large files for the code, so as not to keep them in the repo\n",
    "\n",
    "\n",
    "### Methods: Input datasets\n",
    "\n",
    "#### Physical drivers and risk factors\n",
    "- These are factors that physically control the transport, attenuation, or otherwise affect the level of impact an OSDS at a given location will have on the environment and water quality\n",
    "\n",
    "- The impact of an individual OSDS depends on an array of factors regarding the substrate within which it is installed, its location and proximity to sensitive areas, the ultimate discharge point of its effluent and the conservative constituents therein, and the cumulative impacts of other nearby OSDS, which together may more quickly overwhelm the adsorption and contaminant attenuation capacity of the subsurface than an individual system would. \n",
    "- We considered all numerically or categorically quantifiable factors relating to variability in OSDS impacts, for which we were able to find statewide datasets, we call these \"Risk Factors\". \n",
    "- While some of the risk factor datasets had missing values we generally only included datasets for which we had a minimum of 90% coverage of the OSDS in the state. \n",
    "- For each risk factor we defined a scaler relationship or score between the variable and the spatial location of every individual OSDS unit which was then weighted, and averaged with the scores of all other risk factors to produce a single final prioritization ranking \n",
    "- for each individual OSDS in our state-wide inventory, we calculated a numeric value based on the relationship between the location of the OSDS unit and the spatial distribution of the risk factor so that every OSDS unit is assigned a score for every risk factor. \n",
    "\n",
    "\n",
    "#### Value- based risk factors\n",
    "While the physical factors control the level of impact, we have also included value-based factors that quantify the spatial distribution of human and environmental value within the areas calculated to be affected by the discharge of cesspool effluent through the use of groundwater flow modeling."
   ]
  },
  {
   "cell_type": "code",
   "execution_count": 2,
   "metadata": {},
   "outputs": [],
   "source": [
    "# load up dependencies and local functions\n",
    "%run functions_v2.py\n",
    "from IPython.display import Image\n",
    "\n",
    "# relative paths\n",
    "homedir = os.getcwd()\n",
    "if not os.path.exists(os.path.join(homedir,'tempspace')): os.makedirs(os.path.join(homedir,'tempspace'))  \n",
    "tempspace = os.path.join(homedir, \"tempspace\")\n",
    "if not os.path.exists(os.path.join(\".\", 'Outputs/intermidiate_DataFrames')): os.makedirs(os.path.join(\".\", 'Outputs/intermidiate_DataFrames'))  \n",
    "intermidiate_DataFramesPath = os.path.join(\".\", 'Outputs/intermidiate_DataFrames')\n",
    "\n",
    "pd.set_option('display.max_rows', 10)"
   ]
  },
  {
   "cell_type": "code",
   "execution_count": 3,
   "metadata": {},
   "outputs": [],
   "source": [
    "# To save time, load dataframes from the pre-run analysis\n",
    "for i in os.listdir(intermidiate_DataFramesPath):\n",
    "    name = i.split(\".\")[0]\n",
    "    tempframe = pd.read_csv(os.path.join(intermidiate_DataFramesPath, i), index_col=0)\n",
    "    globals()[str(name)] = tempframe   # This is sly, use globals to define an in-memory variable \n",
    "#osds_path = os.path.join(tempspace, \"OSDS_cleaned.shp\")\n",
    "\n",
    "# This takes the directory of CSV files from intermidiate_DataFramesPath, if the code has been run yet) to dynamically\n",
    "# load each CSV into a separate global variable, where the variable name is based on the CSV file's name.\n",
    "# In essence, it's automatically loading each CSV into memory as a DataFrame and naming the variables after the CSV file names."
   ]
  },
  {
   "cell_type": "markdown",
   "metadata": {},
   "source": [
    "## Download large files >100mb from offsite repo \n",
    "note this has a long run time! \n",
    "\n",
    "- Some of the files this notebook depends on are too large to be hosted by GitHub\n",
    "- One solution is to place these files into a cloud-based repositiry, in this case I use Digital Ocean spaces, and then just download them at the beginning of the work session\n",
    "- Once the analysis is complete there is a cell at the bottom of the notebook to remove these files from the Github Repo so any updates dont include the large files "
   ]
  },
  {
   "cell_type": "code",
   "execution_count": 6,
   "metadata": {},
   "outputs": [
    {
     "name": "stdout",
     "output_type": "stream",
     "text": [
      "Downloading MoKaiLiDar.tfw from https://hcpt-large-file-storage.sfo3.digitaloceanspaces.com/Lidar_DEM_molokai/Lidar_DEM/MoKaiLiDar.tfw\n",
      "Downloaded MoKaiLiDar.tfw to ..\\Projected_data\\DEMs\\Lidar_DEM\\MoKaiLiDar.tfw\n",
      "Downloading MoKaiLiDar.tif.aux.xml from https://hcpt-large-file-storage.sfo3.digitaloceanspaces.com/Lidar_DEM_molokai/Lidar_DEM/MoKaiLiDar.tif.aux.xml\n",
      "Downloaded MoKaiLiDar.tif.aux.xml to ..\\Projected_data\\DEMs\\Lidar_DEM\\MoKaiLiDar.tif.aux.xml\n",
      "Downloading MoKaiLiDar.tif.xml from https://hcpt-large-file-storage.sfo3.digitaloceanspaces.com/Lidar_DEM_molokai/Lidar_DEM/MoKaiLiDar.tif.xml\n",
      "Downloaded MoKaiLiDar.tif.xml to ..\\Projected_data\\DEMs\\Lidar_DEM\\MoKaiLiDar.tif.xml\n",
      "Downloading MoKaiLiDar.tif.ovr from https://hcpt-large-file-storage.sfo3.digitaloceanspaces.com/Lidar_DEM_molokai/Lidar_DEM/MoKaiLiDar.tif.ovr\n",
      "Downloaded MoKaiLiDar.tif.ovr to ..\\Projected_data\\DEMs\\Lidar_DEM\\MoKaiLiDar.tif.ovr\n",
      "Downloading MoKaiLiDar.tif from https://hcpt-large-file-storage.sfo3.digitaloceanspaces.com/Lidar_DEM_molokai/Lidar_DEM/MoKaiLiDar.tif\n",
      "Downloaded MoKaiLiDar.tif to ..\\Projected_data\\DEMs\\Lidar_DEM\\MoKaiLiDar.tif\n"
     ]
    }
   ],
   "source": [
    "### Grab the Lidar elevation data: \n",
    "LIDAR_file_urls = ['https://hcpt-large-file-storage.sfo3.digitaloceanspaces.com/Lidar_DEM_molokai/Lidar_DEM/MoKaiLiDar.tfw', \n",
    "            'https://hcpt-large-file-storage.sfo3.digitaloceanspaces.com/Lidar_DEM_molokai/Lidar_DEM/MoKaiLiDar.tif.aux.xml',\n",
    "            'https://hcpt-large-file-storage.sfo3.digitaloceanspaces.com/Lidar_DEM_molokai/Lidar_DEM/MoKaiLiDar.tif.xml', \n",
    "            'https://hcpt-large-file-storage.sfo3.digitaloceanspaces.com/Lidar_DEM_molokai/Lidar_DEM/MoKaiLiDar.tif.ovr', \n",
    "            'https://hcpt-large-file-storage.sfo3.digitaloceanspaces.com/Lidar_DEM_molokai/Lidar_DEM/MoKaiLiDar.tif']\n",
    "\n",
    "LIDAR_local_folder = os.path.join(\"..\", \"Projected_data\\\\DEMs\\\\Lidar_DEM\")\n",
    "\n",
    "download_files_from_public_endpoint(LIDAR_file_urls, LIDAR_local_folder) "
   ]
  },
  {
   "cell_type": "markdown",
   "metadata": {},
   "source": [
    "## Import OSDS File \n",
    "##### This creates a clean OSDS file from which all other cells will pull \n",
    "Currently using OSDS_v6 which incorporates 2020 updates from the DoH Wastewater branch (v3) IWS Database (V4) as well as the 4 counties tax records dwelling databases (V5).  This can easily be substituted as updates to the OSDS inventory are created.  This version wa run specifically for Molokai based on the Molokai V5 OSDS dataset made for Nancy "
   ]
  },
  {
   "cell_type": "code",
   "execution_count": 5,
   "metadata": {},
   "outputs": [
    {
     "name": "stdout",
     "output_type": "stream",
     "text": [
      "There are 1280 (OSDS or Cesspools) in this dataset\n"
     ]
    }
   ],
   "source": [
    "# Read in latest OSDS dataset  has to have an X and Y column in WGS 84\n",
    "\n",
    "fromshp = os.path.join(\"..\", \"Projected_data/OSDS_v6_Exploded/\", 'CESSPOOLSv6_Exploded.shp')\n",
    "OSDS = Format_OSDS_shp(fromshp, cleanitup=True)\n",
    "\n",
    "# Deal with Dupes\n",
    "checkdup = OSDS.pivot_table(index=['Uid'], aggfunc='size')\n",
    "#print(f\"there are duplicate points at: {checkdup[checkdup != 1]}\")\n",
    "# remove the duplicates (keep first entry of the duplicate row)\n",
    "OSDS.drop_duplicates(subset=['Uid'], keep=\"first\", inplace=True)\n",
    "# Reindex or else the future joins will be based on an index with dupes\n",
    "OSDS.reset_index(drop=True, inplace=True)\n",
    "\n",
    "# Save csv\n",
    "OSDS.to_csv(os.path.join(intermidiate_DataFramesPath, \"OSDS.csv\"))\n",
    "\n",
    "# Convert the now formatted OSDS csv back to a shapefile for the subsequent analyses\n",
    "csvFilePath = os.path.join(intermidiate_DataFramesPath, \"OSDS.csv\")\n",
    "convert_OSDS_csv_to_shp(csvFilePath)\n",
    "\n",
    "# Define the cleaned up OSDS file all the other cells can use\n",
    "osds_path = os.path.join(tempspace, \"OSDS_cleaned.shp\")\n",
    "print(\"There are {} (OSDS or Cesspools) in this dataset\".format(len(OSDS)))"
   ]
  },
  {
   "cell_type": "markdown",
   "metadata": {},
   "source": [
    "## Distance to Municipal or domestic wells \n"
   ]
  },
  {
   "cell_type": "code",
   "execution_count": 9,
   "metadata": {},
   "outputs": [
    {
     "name": "stdout",
     "output_type": "stream",
     "text": [
      "Average dist2_MunWells_m is 6136.877258811058\n",
      "Max dist2_MunWells_m is 27573.79162605669\n",
      "Min dist2_MunWells_m is 109.26694837034235\n"
     ]
    },
    {
     "data": {
      "image/png": "[encoded data removed]",
      "text/plain": [
       "<matplotlib.figure.Figure at 0x28e00391908>"
      ]
     },
     "metadata": {
      "needs_background": "light"
     },
     "output_type": "display_data"
    }
   ],
   "source": [
    "# Generate parameter info about the Municipal wells MODERATE RUN TIME\n",
    "shp_path = os.path.join(\"..\", \"Projected_data/Wells\", 'CWRM_Wells_MUN_prj.shp')\n",
    "new_col_name = \"dist2_MunWells_m\"\n",
    "# Run the near analysis \n",
    "MUN_WELLS = Calc_dist_to_variable(osds_path, shp_path, new_col_name)\n",
    "MUN_WELLS.to_csv(os.path.join(intermidiate_DataFramesPath, \"MUN_WELLS.csv\"))\n",
    "# plot histogram\n",
    "Hist_and_stats_on_DF(MUN_WELLS, \"dist2_MunWells_m\")"
   ]
  },
  {
   "cell_type": "code",
   "execution_count": 10,
   "metadata": {},
   "outputs": [
    {
     "name": "stdout",
     "output_type": "stream",
     "text": [
      "Average dist2_DomWells_m is 11132.087318388018\n",
      "Max dist2_DomWells_m is 36562.96007228427\n",
      "Min dist2_DomWells_m is 32.432537633769925\n"
     ]
    },
    {
     "data": {
      "image/png": "[encoded data removed]",
      "text/plain": [
       "<matplotlib.figure.Figure at 0x28e096ecdd8>"
      ]
     },
     "metadata": {
      "needs_background": "light"
     },
     "output_type": "display_data"
    }
   ],
   "source": [
    "# Generate paramater info about the Domestic wells MODERATE RUN TIME\n",
    "shp_path = os.path.join(\"..\", \"Projected_data/Wells\", 'CWRM_Wells_DOM_prj.shp')\n",
    "new_col_name = \"dist2_DomWells_m\"\n",
    "# Run the near analysis \n",
    "DOM_WELLS = Calc_dist_to_variable(osds_path, shp_path, new_col_name)\n",
    "DOM_WELLS.to_csv(os.path.join(intermidiate_DataFramesPath, \"DOM_WELLS.csv\"))\n",
    "# plot histogram\n",
    "Hist_and_stats_on_DF(DOM_WELLS, \"dist2_DomWells_m\")"
   ]
  },
  {
   "cell_type": "markdown",
   "metadata": {},
   "source": [
    "## Well capture zones\n"
   ]
  },
  {
   "cell_type": "code",
   "execution_count": 11,
   "metadata": {},
   "outputs": [
    {
     "name": "stdout",
     "output_type": "stream",
     "text": [
      "number of affected points = 3\n",
      "number of total systems = 1280\n",
      "percent of systems affected = 0.00234375\n"
     ]
    }
   ],
   "source": [
    "In_polygons = os.path.join(\"..\", \"Projected_data/Well_CZs\", 'ZoneB_Composite_Molokai.shp')\n",
    "new_col_name = 'In_WellCZ_B'\n",
    "In_points = osds_path\n",
    "\n",
    "WellCZ_B_yes = Find_points_inside_polys(In_points, In_polygons, new_col_name)\n",
    "WellCZ_B_yes.to_csv(os.path.join(intermidiate_DataFramesPath, \"WellCZ_B_yes.csv\"))\n",
    "\n",
    "print_stats_on_bool_layers(WellCZ_B_yes)"
   ]
  },
  {
   "cell_type": "code",
   "execution_count": 12,
   "metadata": {},
   "outputs": [
    {
     "name": "stdout",
     "output_type": "stream",
     "text": [
      "number of affected points = 36\n",
      "number of total systems = 1280\n",
      "percent of systems affected = 0.028125\n"
     ]
    }
   ],
   "source": [
    "In_polygons = os.path.join(\"..\", \"Projected_data/Well_CZs\", 'ZoneC_Composite_Molokai.shp')\n",
    "new_col_name = 'In_WellCZ_C'\n",
    "In_points = osds_path\n",
    "\n",
    "WellCZ_C_yes = Find_points_inside_polys(In_points, In_polygons, new_col_name)\n",
    "WellCZ_C_yes.to_csv(os.path.join(intermidiate_DataFramesPath, \"WellCZ_C_yes.csv\"))\n",
    "\n",
    "print_stats_on_bool_layers(WellCZ_C_yes)"
   ]
  },
  {
   "cell_type": "markdown",
   "metadata": {},
   "source": [
    "## Distance to streams\n"
   ]
  },
  {
   "cell_type": "code",
   "execution_count": 13,
   "metadata": {},
   "outputs": [
    {
     "name": "stdout",
     "output_type": "stream",
     "text": [
      "Average dist2_Streams_m is 269.36113061910834\n",
      "Max dist2_Streams_m is 1148.203488529939\n",
      "Min dist2_Streams_m is 0.175227375914354\n"
     ]
    },
    {
     "data": {
      "image/png": "[encoded data removed]",
      "text/plain": [
       "<matplotlib.figure.Figure at 0x28e00a95eb8>"
      ]
     },
     "metadata": {
      "needs_background": "light"
     },
     "output_type": "display_data"
    }
   ],
   "source": [
    "# Generate parameter info about the Municipal wells MODERATE RUN TIME\n",
    "shp_path = os.path.join(\"..\", \"Projected_data/Streams\", 'Streams_prj.shp')\n",
    "new_col_name = \"dist2_Streams_m\"\n",
    "# Run the near analysis \n",
    "STREAMS = Calc_dist_to_variable(osds_path, shp_path, new_col_name)\n",
    "STREAMS.to_csv(os.path.join(intermidiate_DataFramesPath, \"STREAMS.csv\"))\n",
    "# plot histogram\n",
    "Hist_and_stats_on_DF(STREAMS, \"dist2_Streams_m\")"
   ]
  },
  {
   "cell_type": "markdown",
   "metadata": {},
   "source": [
    "## Distance to Wetlands\n"
   ]
  },
  {
   "cell_type": "code",
   "execution_count": 14,
   "metadata": {},
   "outputs": [
    {
     "name": "stdout",
     "output_type": "stream",
     "text": [
      "Average dist2_Wetlands_m is 1665.5024292484202\n",
      "Max dist2_Wetlands_m is 8630.798943424586\n",
      "Min dist2_Wetlands_m is 11.248930451902707\n"
     ]
    },
    {
     "data": {
      "image/png": "[encoded data removed]",
      "text/plain": [
       "<matplotlib.figure.Figure at 0x28e096ece80>"
      ]
     },
     "metadata": {
      "needs_background": "light"
     },
     "output_type": "display_data"
    }
   ],
   "source": [
    "# Generate parameter info about the wetlands\n",
    "shp_path = os.path.join(\"..\", \"Projected_data/Wetlands\", 'Wetlands_emergent_ponds.shp')\n",
    "new_col_name = \"dist2_Wetlands_m\"\n",
    "# Run the near analysis \n",
    "WETLANDS = Calc_dist_to_variable(osds_path, shp_path, new_col_name)\n",
    "WETLANDS.to_csv(os.path.join(intermidiate_DataFramesPath, \"WETLANDS.csv\"))\n",
    "# plot histogram\n",
    "Hist_and_stats_on_DF(WETLANDS, \"dist2_Wetlands_m\")"
   ]
  },
  {
   "cell_type": "markdown",
   "metadata": {},
   "source": [
    "## Distance to the coastline\n"
   ]
  },
  {
   "cell_type": "code",
   "execution_count": 15,
   "metadata": {},
   "outputs": [
    {
     "name": "stdout",
     "output_type": "stream",
     "text": [
      "Average dist2_coast_m is 1015.4681208726258\n",
      "Max dist2_coast_m is 5113.371334908346\n",
      "Min dist2_coast_m is 2.692405061562155\n"
     ]
    },
    {
     "data": {
      "image/png": "[encoded data removed]",
      "text/plain": [
       "<matplotlib.figure.Figure at 0x28e00a6ca90>"
      ]
     },
     "metadata": {
      "needs_background": "light"
     },
     "output_type": "display_data"
    }
   ],
   "source": [
    "# Generate parameter info about the COASTLINE   looong RUN TIME \n",
    "shp_path = os.path.join(\"..\", \"Projected_data/Coastline\", 'Coastline_line_prj.shp')\n",
    "new_col_name = \"dist2_coast_m\"\n",
    "# Run the near analysis \n",
    "COASTLINE = Calc_dist_to_variable(osds_path, shp_path, new_col_name)\n",
    "COASTLINE.to_csv(os.path.join(intermidiate_DataFramesPath, \"COASTLINE.csv\"))\n",
    "# plot histogram\n",
    "Hist_and_stats_on_DF(COASTLINE, \"dist2_coast_m\")"
   ]
  },
  {
   "cell_type": "markdown",
   "metadata": {},
   "source": [
    "## Extracting values from Rainfall raster \n"
   ]
  },
  {
   "cell_type": "code",
   "execution_count": 16,
   "metadata": {},
   "outputs": [
    {
     "name": "stdout",
     "output_type": "stream",
     "text": [
      "Average rainfall_in is 27.45175240486723\n",
      "Max rainfall_in is 101.38800048799999\n",
      "Min rainfall_in is 9.66359329224\n"
     ]
    },
    {
     "data": {
      "image/png": "[encoded data removed]",
      "text/plain": [
       "<matplotlib.figure.Figure at 0x28e00d3bbe0>"
      ]
     },
     "metadata": {
      "needs_background": "light"
     },
     "output_type": "display_data"
    }
   ],
   "source": [
    "In_raster = os.path.join(\"..\", \"Projected_data/Rain\", 'Rain_inann.tif')\n",
    "In_points = osds_path\n",
    "new_col_name = \"rainfall_in\"\n",
    "\n",
    "RAINFALL = extract_values_from_rasters(In_raster, In_points, new_col_name, tempspace)\n",
    "RAINFALL.to_csv(os.path.join(intermidiate_DataFramesPath, \"RAINFALL.csv\"))\n",
    "# plot histogram\n",
    "Hist_and_stats_on_DF(RAINFALL, \"rainfall_in\")"
   ]
  },
  {
   "cell_type": "markdown",
   "metadata": {},
   "source": [
    "## Soils \n"
   ]
  },
  {
   "cell_type": "code",
   "execution_count": 17,
   "metadata": {},
   "outputs": [],
   "source": [
    "# Pull in soils data from NRCS\n",
    "In_polygons = os.path.join(\"..\", \"Projected_data/Soils\", 'HIstate_nrcs_join2.shp')\n",
    "new_col_name = 'Soil_Ksat_2ndry'\n",
    "In_points = osds_path\n",
    "\n",
    "# Columns you want from the shapefile (Uid should always  be first one) \n",
    "want_cols = ['Uid', 'brockdepmin', 'flodfreqdcd', 'engstafdcd', 'engstafll', \n",
    "             'engstafml', 'cokey', 'ksat_h', 'ksat_l', 'ksat_r', 'sieveno10_r', ]  # 'totalsub_r', slopegradw\n",
    "\n",
    "renames = {'brockdepmi':'nrcs_DtoBrock', \n",
    " 'flodfreqdc':'nrcs_FloodFreq',\n",
    " 'engstafdcd':'nrcs_septic_dominant', \n",
    " 'engstafll':'nrcs_septic_least', \n",
    " 'engstafml':'nrcs_septic_most', \n",
    " 'ksat_h':'nrcs_ksat_hi',  \n",
    " 'ksat_l':'nrcs_ksat_lo',\n",
    " 'ksat_r':'nrcs_ksat_rep', \n",
    " 'sieveno10_':'nrcs_rockFrag3in'}    # 'slopegradw':'nrcs_slope', 'totalsub_r':'nrcs_subsidence'\n",
    "\n",
    "# Do the spatial join\n",
    "arcpy.SpatialJoin_analysis(In_points, In_polygons, os.path.join(tempspace, \"test_join_pt_2_poly.shp\"))\n",
    "\n",
    "# read data from shapefile \n",
    "extracted_points_path = os.path.join(tempspace, \"test_join_pt_2_poly.shp\")\n",
    "arcpy.TableToTable_conversion(extracted_points_path, tempspace, 'extracted_all.csv') # Create a rational file format\n",
    "# Create a rational PanDataframe\n",
    "Extracted_All = pd.read_csv(os.path.join(tempspace, 'extracted_all.csv'))\n",
    "\n",
    "want_cols = ['Uid', 'brockdepmi', 'flodfreqdc', 'engstafdcd', 'engstafll', \n",
    "             'engstafml', 'ksat_h', 'ksat_l', 'ksat_r', 'sieveno10_'] # 'slopegradw' , 'totalsub_r'\n",
    "Extract_frame = Extracted_All[want_cols]\n",
    "\n",
    "Extract_frame = Extract_frame.replace('NoData', np.nan)  # clean up from arc's trashiness\n",
    "\n",
    "numcols = ['brockdepmi', 'ksat_h', 'ksat_l', 'ksat_r', 'sieveno10_' ]  #'slopegradw',  'totalsub_r'\n",
    "Extract_frame[numcols] = Extract_frame[numcols].apply(pd.to_numeric, errors='coerce', axis=1)\n",
    "\n",
    "Extract_frame.rename(columns=renames, inplace=True)     # Rename to col that you want\n",
    "\n",
    "SOILS_NRCS = Extract_frame.copy()\n",
    "\n",
    "\n",
    "#### Filling in missing NRCS flood frequency data with rainfall and ksat\n",
    "SOILS_NRCS = SOILS_NRCS.merge(RAINFALL, on=\"Uid\", how='left')\n",
    "\n",
    "# Set frequents \n",
    "SOILS_NRCS['nrcs_FloodFreq'][(SOILS_NRCS['nrcs_FloodFreq'].isnull()) & (SOILS_NRCS['nrcs_ksat_rep'] < 1.1) & (SOILS_NRCS['rainfall_in'] > 135)]  = \"Frequent\"    # \"Frequent\"      \n",
    "SOILS_NRCS['nrcs_FloodFreq'][(SOILS_NRCS['nrcs_FloodFreq'].isnull()) & (SOILS_NRCS['nrcs_ksat_rep'] < 1.1) & (SOILS_NRCS['rainfall_in'] < 15)]  = \"Frequent\"    # \"Frequent\"      \n",
    "\n",
    "# Set Occasionals \n",
    "SOILS_NRCS['nrcs_FloodFreq'][(SOILS_NRCS['nrcs_FloodFreq'].isnull()) & (SOILS_NRCS['rainfall_in'] > 135)]  = \"Occasional\"    # \"Occasional\"      \n",
    "SOILS_NRCS['nrcs_FloodFreq'][(SOILS_NRCS['nrcs_FloodFreq'].isnull()) & (SOILS_NRCS['nrcs_ksat_rep'] < 1.1)]  = \"Occasional\"    # \"Occasional\"      \n",
    "\n",
    "# set rest to none\n",
    "SOILS_NRCS['nrcs_FloodFreq'][(SOILS_NRCS['nrcs_FloodFreq'].isnull())]  = \"None\"    # \"None\"      \n",
    "\n",
    "del SOILS_NRCS['rainfall_in']\n",
    "\n",
    "SOILS_NRCS.to_csv(os.path.join(intermidiate_DataFramesPath, \"SOILS_NRCS.csv\"))"
   ]
  },
  {
   "cell_type": "markdown",
   "metadata": {},
   "source": [
    "## Slope\n"
   ]
  },
  {
   "cell_type": "code",
   "execution_count": 18,
   "metadata": {},
   "outputs": [
    {
     "name": "stdout",
     "output_type": "stream",
     "text": [
      "Average slope_deg is 3.875517410423101\n",
      "Max slope_deg is 45.6593894958\n",
      "Min slope_deg is 0.0\n"
     ]
    },
    {
     "data": {
      "image/png": "[encoded data removed]",
      "text/plain": [
       "<matplotlib.figure.Figure at 0x28e0f7d8d68>"
      ]
     },
     "metadata": {
      "needs_background": "light"
     },
     "output_type": "display_data"
    }
   ],
   "source": [
    "blankframe = pd.DataFrame(columns=[\"Uid\"])\n",
    "\n",
    "indir = os.path.join(\"..\", \"Projected_data\\\\DEMs\\\\Slope_WGS\")  # Using a loop to go over different rasters from different islands\n",
    "for idx, file in enumerate(os.listdir(indir)):\n",
    "    if file.endswith(\".tif\"):\n",
    "        In_raster = os.path.join(indir, file)\n",
    "        In_points = osds_path\n",
    "        new_col_name = \"slope_{}\".format(idx)       \n",
    "        foo = extract_values_from_rasters(In_raster, In_points, new_col_name, tempspace)\n",
    "        blankframe = blankframe.merge(foo, how='outer', on='Uid')\n",
    "\n",
    "blankframe.set_index(\"Uid\", inplace=True)\n",
    "blankframe['slope_deg'] = blankframe.max(axis=1)  \n",
    "blankframe.reset_index(inplace=True)\n",
    "\n",
    "SLOPE = blankframe[[\"Uid\", 'slope_deg']]\n",
    "SLOPE.to_csv(os.path.join(intermidiate_DataFramesPath, \"SLOPE.csv\"))\n",
    "# plot histogram\n",
    "Hist_and_stats_on_DF(SLOPE, \"slope_deg\")"
   ]
  },
  {
   "cell_type": "markdown",
   "metadata": {},
   "source": [
    "## Depth to water \n"
   ]
  },
  {
   "cell_type": "code",
   "execution_count": 19,
   "metadata": {},
   "outputs": [
    {
     "name": "stdout",
     "output_type": "stream",
     "text": [
      "Average WT_elev_m is 1.826820172134965\n",
      "Max WT_elev_m is 85.9987258911\n",
      "Min WT_elev_m is -0.539620876312\n"
     ]
    },
    {
     "data": {
      "image/png": "[encoded data removed]",
      "text/plain": [
       "<matplotlib.figure.Figure at 0x28e00d99f98>"
      ]
     },
     "metadata": {
      "needs_background": "light"
     },
     "output_type": "display_data"
    }
   ],
   "source": [
    "blankframe = pd.DataFrame(columns=[\"Uid\"])\n",
    "indir = os.path.join(\"..\", \"Projected_data\\\\Water_table\\\\Tiffs\")\n",
    "\n",
    "for idx, file in enumerate(os.listdir(indir)):     # Using a loop to go over different rasters from different islands\n",
    "    if file.endswith(\".tif\"):\n",
    "        In_raster = os.path.join(indir, file)\n",
    "        In_points = osds_path\n",
    "        new_col_name = \"WT_elev_m_{}\".format(idx)\n",
    "         \n",
    "        foo = extract_values_from_rasters(In_raster, In_points, new_col_name, tempspace)   \n",
    "        # Merge the different islands together \n",
    "        blankframe = blankframe.merge(foo, how='outer', on='Uid')\n",
    "\n",
    "blankframe.set_index(\"Uid\", inplace=True)\n",
    "blankframe['WT_elev_m'] = blankframe.max(axis=1)  \n",
    "blankframe.reset_index(inplace=True)\n",
    "\n",
    "WT_ELEV = blankframe[[\"Uid\", 'WT_elev_m']]\n",
    "WT_ELEV.to_csv(os.path.join(intermidiate_DataFramesPath, \"WT_ELEV.csv\"))\n",
    "# plot histogram\n",
    "Hist_and_stats_on_DF(WT_ELEV, \"WT_elev_m\")"
   ]
  },
  {
   "cell_type": "markdown",
   "metadata": {},
   "source": [
    "### Land Surface elevations\n",
    "This relies on first getting data from lidar dem (1m resolution), then if no data get data from the course (10m) resolution ones to create cohesive dataset\n",
    "\n",
    "- Worst data downloading experience ever was the lame 10m dem  \n",
    "- https://pae-paha.pacioos.hawaii.edu/erddap/griddap/usgs_dem_10m_molokai.html\n",
    "\n",
    "##### Very long run time"
   ]
  },
  {
   "cell_type": "code",
   "execution_count": 20,
   "metadata": {},
   "outputs": [
    {
     "name": "stdout",
     "output_type": "stream",
     "text": [
      "working on MokaiWGS.tif\n",
      "working on MoKaiLiDar.tif\n",
      "Average Elevation_m is 105.06972144114941\n",
      "Max Elevation_m is 489.090393066\n",
      "Min Elevation_m is -0.605226397514\n"
     ]
    },
    {
     "data": {
      "image/png": "[encoded data removed]",
      "text/plain": [
       "<matplotlib.figure.Figure at 0x28e00a07a90>"
      ]
     },
     "metadata": {
      "needs_background": "light"
     },
     "output_type": "display_data"
    }
   ],
   "source": [
    "blankframe = pd.DataFrame(columns=[\"Uid\"])\n",
    "indir_crap = os.path.join(\"..\", \"Projected_data\\\\DEMs\\\\10mDEM_WGS\")\n",
    "\n",
    "for idx, file in enumerate(os.listdir(indir_crap)):   # Using a loop to go over different rasters from different islands\n",
    "    if file.endswith(\".tif\"):\n",
    "        print(\"working on {}\".format(file))\n",
    "        In_raster = os.path.join(indir_crap, file)\n",
    "        In_points = osds_path\n",
    "        # Define new collumn name you want\n",
    "        new_col_name = \"CrapElev_m_{}\".format(idx)\n",
    "        \n",
    "        foo = extract_values_from_rasters(In_raster, In_points, new_col_name, tempspace)   \n",
    "        # Merge the different islands together \n",
    "        blankframe = blankframe.merge(foo, how='outer', on='Uid')\n",
    "        \n",
    "blankframe.set_index(\"Uid\", inplace=True)\n",
    "blankframe['CrapElev'] = blankframe.max(axis=1)  \n",
    "blankframe.reset_index(inplace=True)\n",
    "\n",
    "ELEV_crap = blankframe[[\"Uid\", 'CrapElev']]\n",
    "\n",
    "\n",
    "####  Now do the same for the lidar dataset  to stitch on ####\n",
    "blankframe = pd.DataFrame(columns=[\"Uid\"])\n",
    "indir_good = os.path.join(\"..\", \"Projected_data\\\\DEMs\\\\Lidar_DEM\")\n",
    "\n",
    "for idx, file in enumerate(os.listdir(indir_good)):   # Using a loop to go over different rasters from different islands\n",
    "    if file.endswith(\".tif\"):\n",
    "        print(\"working on {}\".format(file))\n",
    "        In_raster = os.path.join(indir_good, file)\n",
    "        In_points = osds_path\n",
    "        # Define new collumn name you want\n",
    "        new_col_name = \"LidarElev_m\"\n",
    "        \n",
    "        foo = extract_values_from_rasters(In_raster, In_points, new_col_name, tempspace)   \n",
    "        # Merge the different islands together \n",
    "        blankframe = blankframe.merge(foo, how='outer', on='Uid')\n",
    "\n",
    "blankframe.set_index(\"Uid\", inplace=True)\n",
    "blankframe['LidarElev'] = blankframe.max(axis=1)  \n",
    "blankframe.reset_index(inplace=True)\n",
    "\n",
    "ELEV_good = blankframe[[\"Uid\", 'LidarElev']]\n",
    "\n",
    "# Now Merge Elevations to create a master elevation\n",
    "Master = OSDS.copy()\n",
    "\n",
    "Master = Master.merge(ELEV_good, on=\"Uid\", how=\"left\")\n",
    "Master = Master.merge(ELEV_crap, on=\"Uid\", how=\"left\")\n",
    "\n",
    "Master['Elevation_m'] = Master['LidarElev']\n",
    "\n",
    "Master['Elevation_m'] = np.where((Master['LidarElev'].isnull()),   #Identifies the case to apply to \n",
    "                           Master['CrapElev'],      #This is the value that is inserted\n",
    "                           Master['Elevation_m'])      #This is the column that is affected\n",
    "\n",
    "ELEVATION = Master[[\"Uid\", 'Elevation_m']]\n",
    "ELEVATION.to_csv(os.path.join(intermidiate_DataFramesPath, \"ELEVATION.csv\"))\n",
    "\n",
    "Hist_and_stats_on_DF(ELEVATION, \"Elevation_m\")"
   ]
  },
  {
   "cell_type": "markdown",
   "metadata": {},
   "source": [
    "### Calculate Depth to Water for all OSDS points"
   ]
  },
  {
   "cell_type": "code",
   "execution_count": 21,
   "metadata": {},
   "outputs": [
    {
     "name": "stdout",
     "output_type": "stream",
     "text": [
      "Average Dep_to_Water_m is 104.02674673632629\n",
      "Max Dep_to_Water_m is 481.590600967\n",
      "Min Dep_to_Water_m is 0.05757802724800004\n"
     ]
    },
    {
     "data": {
      "image/png": "[encoded data removed]",
      "text/plain": [
       "<matplotlib.figure.Figure at 0x28e04b14860>"
      ]
     },
     "metadata": {
      "needs_background": "light"
     },
     "output_type": "display_data"
    }
   ],
   "source": [
    "DtoWater = WT_ELEV.merge(ELEVATION, on=\"Uid\", how='outer')                     # merge elevation and WT elevation\n",
    "DtoWater['Dep_to_Water_m'] = DtoWater['Elevation_m'] - DtoWater['WT_elev_m']   # find the difference \n",
    "\n",
    "DtoWater['Dep_to_Water_m'][DtoWater['Dep_to_Water_m'] < 0] = 0.999        # Where it is negative assign value of .999\n",
    "\n",
    "DTOWATER = DtoWater.copy()\n",
    "DTOWATER.to_csv(os.path.join(intermidiate_DataFramesPath, \"DTOWATER.csv\"))\n",
    "\n",
    "Hist_and_stats_on_DF(DTOWATER, \"Dep_to_Water_m\")"
   ]
  },
  {
   "cell_type": "markdown",
   "metadata": {},
   "source": [
    "# Combination, horizontal + Vertical SLR effects\n"
   ]
  },
  {
   "cell_type": "markdown",
   "metadata": {},
   "source": [
    "## Check if inside SLR zone 2030"
   ]
  },
  {
   "cell_type": "code",
   "execution_count": 23,
   "metadata": {},
   "outputs": [
    {
     "name": "stdout",
     "output_type": "stream",
     "text": [
      "vertical stats\n",
      "number of affected points = 350\n",
      "number of total systems = 1280\n",
      "percent of systems affected = 0.2734375\n",
      "Hor stats\n",
      "number of affected points = 1\n",
      "number of total systems = 1280\n",
      "percent of systems affected = 0.00078125\n",
      "Vert+Hor stats\n",
      "number of affected points = 351\n",
      "number of total systems = 1280\n",
      "percent of systems affected = 0.27421875\n"
     ]
    }
   ],
   "source": [
    "# Compile systems affected by Vertical SLR inundation\n",
    "Vertical_SLR_2030 = DTOWATER[DTOWATER['Dep_to_Water_m'] < 4.9]\n",
    "print(\"vertical stats\"); print_stats_on_bool_layers(Vertical_SLR_2030)\n",
    "\n",
    "# Compile systems in the horizontal surface flood zone\n",
    "In_polygons = os.path.join(\"..\", \"Projected_data/SLR\", 'hi_tt_all_slrxa_2030_prj.shp')\n",
    "new_col_name = 'InSLR2030'\n",
    "In_points = osds_path\n",
    "Hor_SLR_2030 = Find_points_inside_polys(In_points, In_polygons, new_col_name)\n",
    "print(\"Hor stats\"); print_stats_on_bool_layers(Hor_SLR_2030)\n",
    "\n",
    "SLR_2030_yes = Vertical_SLR_2030.merge(Hor_SLR_2030, on=\"Uid\", how=\"outer\")\n",
    "SLR_2030_yes = SLR_2030_yes[['Uid', new_col_name]]\n",
    "SLR_2030_yes[new_col_name] = True   # be sure to set all the rows that are in hor or vert zone to true\n",
    "\n",
    "SLR_2030_yes.to_csv(os.path.join(intermidiate_DataFramesPath, \"SLR_2030_yes.csv\"))\n",
    "print(\"Vert+Hor stats\"); print_stats_on_bool_layers(SLR_2030_yes)"
   ]
  },
  {
   "cell_type": "markdown",
   "metadata": {},
   "source": [
    "### Check if inside SLR zone 2050 \n"
   ]
  },
  {
   "cell_type": "code",
   "execution_count": 24,
   "metadata": {},
   "outputs": [
    {
     "name": "stdout",
     "output_type": "stream",
     "text": [
      "vertical stats\n",
      "number of affected points = 359\n",
      "number of total systems = 1280\n",
      "percent of systems affected = 0.28046875\n",
      "Hor stats\n",
      "number of affected points = 3\n",
      "number of total systems = 1280\n",
      "percent of systems affected = 0.00234375\n",
      "Vert+Hor stats\n",
      "number of affected points = 360\n",
      "number of total systems = 1280\n",
      "percent of systems affected = 0.28125\n"
     ]
    }
   ],
   "source": [
    "# Compile systems affected by Vertical SLR inundation\n",
    "Vertical_SLR_2050 = DTOWATER[DTOWATER['Dep_to_Water_m'] < 5.5]\n",
    "print(\"vertical stats\"); print_stats_on_bool_layers(Vertical_SLR_2050)\n",
    "\n",
    "# Compile systems in the horizontal surface flood zone\n",
    "In_polygons = os.path.join(\"..\", \"Projected_data/SLR\", 'hi_tt_all_slrxa_2050_prj.shp')\n",
    "new_col_name = 'InSLR2050'\n",
    "In_points = osds_path\n",
    "Hor_SLR_2050 = Find_points_inside_polys(In_points, In_polygons, new_col_name)\n",
    "print(\"Hor stats\"); print_stats_on_bool_layers(Hor_SLR_2050)\n",
    "\n",
    "SLR_2050_yes = Vertical_SLR_2050.merge(Hor_SLR_2050, on=\"Uid\", how=\"outer\")\n",
    "SLR_2050_yes = SLR_2050_yes[['Uid', new_col_name]]\n",
    "SLR_2050_yes[new_col_name] = True  # be sure to set all the rows that are in hor or vert zone to true\n",
    "\n",
    "SLR_2050_yes.to_csv(os.path.join(intermidiate_DataFramesPath, \"SLR_2050_yes.csv\"))\n",
    "print(\"Vert+Hor stats\"); print_stats_on_bool_layers(SLR_2050_yes)"
   ]
  },
  {
   "cell_type": "markdown",
   "metadata": {},
   "source": [
    "### Check if inside SLR zone 2100"
   ]
  },
  {
   "cell_type": "code",
   "execution_count": 25,
   "metadata": {},
   "outputs": [
    {
     "name": "stdout",
     "output_type": "stream",
     "text": [
      "vertical stats\n",
      "number of affected points = 423\n",
      "number of total systems = 1280\n",
      "percent of systems affected = 0.33046875\n",
      "Hor stats\n",
      "number of affected points = 75\n",
      "number of total systems = 1280\n",
      "percent of systems affected = 0.05859375\n",
      "Vert+Hor stats\n",
      "number of affected points = 425\n",
      "number of total systems = 1280\n",
      "percent of systems affected = 0.33203125\n"
     ]
    }
   ],
   "source": [
    "# Compile systems affected by Vertical SLR inundation\n",
    "Vertical_SLR_2100 = DTOWATER[DTOWATER['Dep_to_Water_m'] < 7.6]\n",
    "print(\"vertical stats\"); print_stats_on_bool_layers(Vertical_SLR_2100)\n",
    "\n",
    "\n",
    "In_polygons = os.path.join(\"..\", \"Projected_data/SLR\", 'hi_tt_all_slrxa_2100_prj.shp')\n",
    "new_col_name = 'InSLR2100'\n",
    "In_points = osds_path\n",
    "Hor_SLR_2100 = Find_points_inside_polys(In_points, In_polygons, new_col_name)\n",
    "print(\"Hor stats\"); print_stats_on_bool_layers(Hor_SLR_2100)\n",
    "\n",
    "SLR_2100_yes = Vertical_SLR_2100.merge(Hor_SLR_2100, on=\"Uid\", how=\"outer\")\n",
    "SLR_2100_yes = SLR_2100_yes[['Uid', new_col_name]]\n",
    "SLR_2100_yes[new_col_name] = True    # be sure to set all the rows that are in hor or vert zone to true\n",
    "\n",
    "SLR_2100_yes.to_csv(os.path.join(intermidiate_DataFramesPath, \"SLR_2100_yes.csv\"))\n",
    "print(\"Vert+Hor stats\"); print_stats_on_bool_layers(SLR_2100_yes)"
   ]
  },
  {
   "cell_type": "markdown",
   "metadata": {},
   "source": [
    "## Calculate OSDS Density "
   ]
  },
  {
   "cell_type": "code",
   "execution_count": 26,
   "metadata": {},
   "outputs": [
    {
     "name": "stdout",
     "output_type": "stream",
     "text": [
      "Average OSDS_Density_perAcre is 0.3477778187458932\n",
      "Max OSDS_Density_perAcre is 1.5660881996200002\n",
      "Min OSDS_Density_perAcre is 0.00991195067763\n"
     ]
    },
    {
     "data": {
      "image/png": "[encoded data removed]",
      "text/plain": [
       "<matplotlib.figure.Figure at 0x28e0c84c898>"
      ]
     },
     "metadata": {
      "needs_background": "light"
     },
     "output_type": "display_data"
    }
   ],
   "source": [
    "# Project the OSDS dots into UTM4n to get units of meters\n",
    "input_features = os.path.join(\"..\", \"Projected_data/OSDS_v6_Exploded/\", 'CESSPOOLSv6_Exploded.shp')\n",
    "OSDS_utm_path = os.path.join(tempspace, \"ClassIV_cespool_UTM4N.shp\" )  # replacing \"..\", \"Projected_data/OSDS/UTM\", \"ClassIV_cespool_UTM4N.shp\"\n",
    "out_coordinate_system = arcpy.SpatialReference('WGS 1984 UTM Zone  4N')\n",
    "arcpy.Project_management(input_features, OSDS_utm_path, out_coordinate_system)\n",
    "\n",
    "# Density Parameters\n",
    "effect_distance_m = 360.5\n",
    "Density_units = \"ACRES\"\n",
    "cellSize = 64     \n",
    "new_col_name = \"OSDS_Density_perAcre\"   # Define new collumn name you want\n",
    "\n",
    "# internal parameters\n",
    "myNbrCirc = NbrCircle(effect_distance_m, \"MAP\")\n",
    "populationField = \"NONE\"\n",
    "# Run density algo\n",
    "outPdens = PointDensity(OSDS_utm_path, populationField, cellSize, myNbrCirc, Density_units)\n",
    "outPdens.save(os.path.join(tempspace, 'CessPool_density.tif'))\n",
    "\n",
    "# Convert format to dataframe\n",
    "In_raster = outPdens\n",
    "In_points = osds_path\n",
    "ExtractValuesToPoints(In_points, In_raster, os.path.join(tempspace, \"test_rain_OSDS.shp\"))\n",
    "\n",
    "# read on OSDS data from shapefile into dataframe \n",
    "extracted_points_path = os.path.join(tempspace, \"test_rain_OSDS.shp\")\n",
    "arcpy.TableToTable_conversion(extracted_points_path, tempspace, 'extracted_all.csv') # Create a rational file format\n",
    "# Create a rational PanDataframe\n",
    "Extracted_All = pd.read_csv(os.path.join(tempspace, 'extracted_all.csv'))\n",
    "\n",
    "\n",
    "#Select only selected columns\n",
    "want_cols = ['Uid', 'RASTERVALU']\n",
    "Extract_frame = Extracted_All[want_cols]\n",
    "Extract_frame.rename(columns={'RASTERVALU':new_col_name}, inplace=True)     # Rename to col that you want\n",
    "Extract_frame.loc[Extract_frame[new_col_name] < 0] = np.nan                 # Deal with the -9999 values set to nan\n",
    "\n",
    "OSDS_DENSITY = Extract_frame.copy()\n",
    "OSDS_DENSITY.to_csv(os.path.join(intermidiate_DataFramesPath, \"OSDS_DENSITY.csv\"))\n",
    "\n",
    "Hist_and_stats_on_DF(OSDS_DENSITY, \"OSDS_Density_perAcre\")"
   ]
  },
  {
   "cell_type": "markdown",
   "metadata": {},
   "source": [
    "## Import the Coastal Endpoint ID's from the Bob Model flowpaths"
   ]
  },
  {
   "cell_type": "code",
   "execution_count": 62,
   "metadata": {},
   "outputs": [
    {
     "name": "stdout",
     "output_type": "stream",
     "text": [
      "There are 1280 points with Flikr_IDs\n",
      "There are 1280 OSDS shp points\n",
      "There are 0 OSDS units in OSDS, that do not have a flikr cell\n",
      "There are 0 units with a Flikr cell, but are not in the OSDS file\n"
     ]
    }
   ],
   "source": [
    "# Read Fliker_ID from the grid cells for each point\n",
    "In_polygons = os.path.join(\"..\", \"Projected_data/ImpactZones_Flik_ID\", 'Molokai_grid_w_Flikr_IDs_MauiID.shp')\n",
    "In_points = osds_path\n",
    "\n",
    "# Do the spatial join\n",
    "arcpy.SpatialJoin_analysis(In_points, In_polygons, os.path.join(tempspace, \"test_join_pt_2_poly.shp\"))\n",
    "\n",
    "# Sub in the geographically closest Flikr cell if the OSDS didnt hit a GMS grid cell. and format the Final dataframe\n",
    "in_features = os.path.join(tempspace, \"test_join_pt_2_poly.shp\")\n",
    "Flikr_cells = os.path.join(\"..\", \"Projected_data/ImpactZones_Flik_ID/GeographicFlikr_data\", \"Flikr_MoKai_250_cells_wMidpoints.shp\")\n",
    "OSDS_FLIK_ID = deal_with_no_FlikrCellsOSDS_pts(in_features, Flikr_cells)\n",
    "\n",
    "OSDS_FLIK_ID.to_csv(os.path.join(intermidiate_DataFramesPath, \"OSDS_FLIK_ID.csv\"))\n",
    "\n",
    "print_costal_endpoint_flik_ID_analytics(OSDS_FLIK_ID, OSDS)"
   ]
  },
  {
   "cell_type": "markdown",
   "metadata": {},
   "source": [
    "## Add visitation level from associated Flikr cell \n"
   ]
  },
  {
   "cell_type": "code",
   "execution_count": 39,
   "metadata": {},
   "outputs": [
    {
     "name": "stdout",
     "output_type": "stream",
     "text": [
      "Average UserDays is 2.9265625\n",
      "Max UserDays is 29\n",
      "Min UserDays is 0\n"
     ]
    },
    {
     "data": {
      "image/png": "[encoded data removed]",
      "text/plain": [
       "<matplotlib.figure.Figure at 0x16b6875f7b8>"
      ]
     },
     "metadata": {
      "needs_background": "light"
     },
     "output_type": "display_data"
    }
   ],
   "source": [
    "# NOTE this uses OSDS_FLIK_ID (the OSDS Uid to Flik ID key) from above\n",
    "\n",
    "paths_path = os.path.join(\"..\", \"Projected_data/Coast_Usage_Flikr/Processed\", 'Statewide_flikr_visitation.shp')\n",
    "columns_nams = [field.name for field in arcpy.ListFields(paths_path)]\n",
    "columns_nams.pop(1)  # remove stupid shape col\n",
    "temparr = arcpy.da.FeatureClassToNumPyArray(paths_path, columns_nams)\n",
    "tempdf =  pd.DataFrame(temparr)\n",
    "carelist = ['Flikr_ID', 'UserDays']  # cut to only wanted cols\n",
    "Flk_userTemp = tempdf[carelist].copy()\n",
    "\n",
    "# Do the merge with flikrcells\n",
    "usedays_merge = OSDS_FLIK_ID.merge(Flk_userTemp, on='Flikr_ID', how='left')\n",
    "carelist2 = ['Uid', 'UserDays']  # cut to only wanted cols\n",
    "\n",
    "USERDAYS = usedays_merge[carelist2]\n",
    "USERDAYS.to_csv(os.path.join(intermidiate_DataFramesPath, \"USERDAYS.csv\"))\n",
    "\n",
    "Hist_and_stats_on_DF(USERDAYS, \"UserDays\")"
   ]
  },
  {
   "cell_type": "markdown",
   "metadata": {},
   "source": [
    "## Lifeguard towers / swim beaches\n",
    "There are no lifeguard towers on Molokai. \n",
    "This shapefile was generated through searching websites that recommended beaches to swim, specifically the official HI tourism website: https://www.gohawaii.com/islands/molokai/things-to-do/beaches was used along with Visit Molokai https://visitmolokai.com/wp/molokai-beaches/ "
   ]
  },
  {
   "cell_type": "code",
   "execution_count": 40,
   "metadata": {},
   "outputs": [
    {
     "name": "stdout",
     "output_type": "stream",
     "text": [
      "There are 136 points draining to swim beaches\n",
      "There are 1280 OSDS shp points\n"
     ]
    }
   ],
   "source": [
    "# input datasets\n",
    "Flik_dots_path = os.path.join(\"..\", \"Projected_data/ImpactZones_Flik_ID/GeographicFlikr_data\", 'State_Gridded_Coast_WGS84_pts.shp')\n",
    "variable_pts_path = os.path.join(\"..\", \"Projected_data/Swim_beaches\", 'Molokai_Swim_Beaches.shp')\n",
    "\n",
    "# make silly arc layers\n",
    "arcpy.MakeFeatureLayer_management (Flik_dots_path, \"Flik_dots\")\n",
    "arcpy.MakeFeatureLayer_management (variable_pts_path, \"variable_pts\")\n",
    "\n",
    "# Select Flik cells(dots) by proximity to LG towers\n",
    "Selection = arcpy.SelectLayerByLocation_management(\"Flik_dots\", \"WITHIN_A_DISTANCE\", \"variable_pts\", \"550 meters\", \"NEW_SELECTION\",\"NOT_INVERT\")\n",
    "arcpy.CopyFeatures_management(Selection, os.path.join(tempspace, \"selected_variables.shp\"))\n",
    "\n",
    "# read data from shapefile \n",
    "extracted_points_path = os.path.join(tempspace, \"selected_variables.shp\")\n",
    "arcpy.TableToTable_conversion(extracted_points_path, tempspace, 'extracted_all.csv') # Create a rational file format\n",
    "# Create a rational PanDataframe\n",
    "Extracted_All = pd.read_csv(os.path.join(tempspace, 'extracted_all.csv'))\n",
    "\n",
    "# Cut out unneded columns and save final dataframe  (Note that the tempframe contains the actual flikr_ID of the guard station for each)\n",
    "want_cols = ['Uid', 'Swim_beach']\n",
    "tempframe = Extracted_All.merge(OSDS_FLIK_ID, on=\"Flikr_ID\", how=\"left\")\n",
    "tempframe[\"Swim_beach\"] = True\n",
    "SWIM_BEACHES = tempframe[want_cols]\n",
    "SWIM_BEACHES.to_csv(os.path.join(intermidiate_DataFramesPath, \"SWIM_BEACHES.csv\"))\n",
    "\n",
    "# print analysics on how OSDS file from top cell, matches up with results\n",
    "print(\"There are {} points draining to swim beaches\".format(len(SWIM_BEACHES)))\n",
    "print(\"There are {} OSDS shp points\".format(len(OSDS)))"
   ]
  },
  {
   "cell_type": "markdown",
   "metadata": {},
   "source": [
    "## Coastal Ecosystem impact valuations from Marine Biology Group\n"
   ]
  },
  {
   "cell_type": "code",
   "execution_count": 69,
   "metadata": {},
   "outputs": [
    {
     "name": "stdout",
     "output_type": "stream",
     "text": [
      "Average Coral_rank is 2.0\n",
      "Max Coral_rank is 2\n",
      "Min Coral_rank is 2\n"
     ]
    },
    {
     "data": {
      "image/png": "[encoded data removed]",
      "text/plain": [
       "<matplotlib.figure.Figure at 0x16b68d76b00>"
      ]
     },
     "metadata": {
      "needs_background": "light"
     },
     "output_type": "display_data"
    }
   ],
   "source": [
    "# Add here \n",
    "coral_merge = OSDS_FLIK_ID.copy()\n",
    "coral_merge['Coral_rank'] = 2\n",
    "\n",
    "carelist2 = ['Uid', 'Coral_rank']  # cut to only wanted cols\n",
    "\n",
    "CORAL = coral_merge[carelist2]\n",
    "CORAL.to_csv(os.path.join(intermidiate_DataFramesPath, \"CORAL.csv\"))\n",
    "\n",
    "Hist_and_stats_on_DF(CORAL, \"Coral_rank\")"
   ]
  },
  {
   "cell_type": "code",
   "execution_count": 76,
   "metadata": {},
   "outputs": [
    {
     "name": "stdout",
     "output_type": "stream",
     "text": [
      "Average Coral_rank is 2.0\n",
      "Max Coral_rank is 2\n",
      "Min Coral_rank is 2\n"
     ]
    },
    {
     "data": {
      "image/png": "[encoded data removed]",
      "text/plain": [
       "<matplotlib.figure.Figure at 0x16b6a4cc6d8>"
      ]
     },
     "metadata": {
      "needs_background": "light"
     },
     "output_type": "display_data"
    }
   ],
   "source": [
    "# Add REAL CODE here \n",
    "\n",
    "\n",
    "# Dummy code\n",
    "coral_merge = OSDS_FLIK_ID.copy()\n",
    "coral_merge['Coral_rank'] = 2\n",
    "\n",
    "carelist2 = ['Uid', 'Coral_rank']  # cut to only wanted cols\n",
    "\n",
    "CORAL = coral_merge[carelist2]\n",
    "CORAL.to_csv(os.path.join(intermidiate_DataFramesPath, \"CORAL.csv\"))\n",
    "\n",
    "Hist_and_stats_on_DF(CORAL, \"Coral_rank\")"
   ]
  },
  {
   "cell_type": "code",
   "execution_count": 77,
   "metadata": {},
   "outputs": [
    {
     "name": "stdout",
     "output_type": "stream",
     "text": [
      "Average RFish_rank is 2.0\n",
      "Max RFish_rank is 2\n",
      "Min RFish_rank is 2\n"
     ]
    },
    {
     "data": {
      "image/png": "[encoded data removed]",
      "text/plain": [
       "<matplotlib.figure.Figure at 0x16b6a4e6320>"
      ]
     },
     "metadata": {
      "needs_background": "light"
     },
     "output_type": "display_data"
    }
   ],
   "source": [
    "# Add REAL CODE here \n",
    "\n",
    "\n",
    "# Dummy code\n",
    "fish_merge = OSDS_FLIK_ID.copy()\n",
    "fish_merge['RFish_rank'] = 2\n",
    "\n",
    "carelist2 = ['Uid', 'RFish_rank']  # cut to only wanted cols\n",
    "\n",
    "FISH = fish_merge[carelist2]\n",
    "FISH.to_csv(os.path.join(intermidiate_DataFramesPath, \"FISH.csv\"))\n",
    "\n",
    "Hist_and_stats_on_DF(FISH, \"RFish_rank\")"
   ]
  },
  {
   "cell_type": "code",
   "execution_count": null,
   "metadata": {},
   "outputs": [],
   "source": []
  },
  {
   "cell_type": "code",
   "execution_count": null,
   "metadata": {},
   "outputs": [],
   "source": []
  },
  {
   "cell_type": "code",
   "execution_count": null,
   "metadata": {},
   "outputs": [],
   "source": []
  },
  {
   "cell_type": "code",
   "execution_count": null,
   "metadata": {},
   "outputs": [],
   "source": []
  },
  {
   "cell_type": "markdown",
   "metadata": {},
   "source": [
    "# Ocean Circulation proxy\n",
    "##### Wave Power (in KW/m) Long-term Mean, 2000-2013 – Statewide"
   ]
  },
  {
   "cell_type": "code",
   "execution_count": 42,
   "metadata": {},
   "outputs": [
    {
     "name": "stdout",
     "output_type": "stream",
     "text": [
      "Average Wave_pwr is 8.502659989743076\n",
      "Max Wave_pwr is 31.0620708466\n",
      "Min Wave_pwr is 0.150198996067\n"
     ]
    },
    {
     "data": {
      "image/png": "[encoded data removed]",
      "text/plain": [
       "<matplotlib.figure.Figure at 0x16b67e46dd8>"
      ]
     },
     "metadata": {
      "needs_background": "light"
     },
     "output_type": "display_data"
    }
   ],
   "source": [
    "paths_path = os.path.join(\"..\", \"Projected_data/Coastal_Circulation\", 'Wave_power_KWm_Flikr_pts.shp')\n",
    "columns_nams = [field.name for field in arcpy.ListFields(paths_path)]\n",
    "columns_nams.pop(1)  # remove stupid shape col\n",
    "temparr = arcpy.da.FeatureClassToNumPyArray(paths_path, columns_nams)\n",
    "tempdf =  pd.DataFrame(temparr)\n",
    "\n",
    "carelist = ['Flikr_ID', 'Wave_pwr']  # cut to only wanted cols\n",
    "Flk_OcircTemp = tempdf[carelist].copy()\n",
    "\n",
    "# Do the merge with flikrcells for corals\n",
    "Ocirc_merge = OSDS_FLIK_ID.merge(Flk_OcircTemp, on='Flikr_ID', how='left')\n",
    "carelist2 = ['Uid', 'Wave_pwr']  # cut to only wanted cols\n",
    "\n",
    "WAVE_POWER = Ocirc_merge[carelist2]\n",
    "WAVE_POWER.to_csv(os.path.join(intermidiate_DataFramesPath, \"WAVE_POWER.csv\"))\n",
    "\n",
    "Hist_and_stats_on_DF(WAVE_POWER, \"Wave_pwr\")"
   ]
  },
  {
   "cell_type": "markdown",
   "metadata": {},
   "source": [
    "# Consolidation into different areas and association of metadata"
   ]
  },
  {
   "cell_type": "markdown",
   "metadata": {},
   "source": [
    "## Add Census Track IDs\n"
   ]
  },
  {
   "cell_type": "code",
   "execution_count": 43,
   "metadata": {},
   "outputs": [],
   "source": [
    "# Create the key to join OSDS points to Census blocks \n",
    "In_polygons = os.path.join(\"..\", \"Projected_data/Census\", '2010_Census_Tracts_Clean.shp')\n",
    "In_points = osds_path\n",
    "want_cols = ['Uid', 'Track_ID']\n",
    "Level = 'Tracts'\n",
    "\n",
    "TRACK_ID = Census_data_joining(In_points, In_polygons, want_cols, Save_meta=True, Level=Level)\n",
    "TRACK_ID.to_csv(os.path.join(intermidiate_DataFramesPath, \"TRACK_ID.csv\"))"
   ]
  },
  {
   "cell_type": "markdown",
   "metadata": {},
   "source": [
    "## Add census block group IDs \n"
   ]
  },
  {
   "cell_type": "code",
   "execution_count": 44,
   "metadata": {},
   "outputs": [],
   "source": [
    "# Create the key to join OSDS points to Census blockgroups\n",
    "In_polygons = os.path.join(\"..\", \"Projected_data/Census\", '2010_Census_Block_Groups_Clean.shp')\n",
    "In_points = osds_path\n",
    "want_cols = ['Uid', 'BlockGp_ID']\n",
    "Level = 'Block_Groups'\n",
    "\n",
    "BLOCKGROUP_ID = Census_data_joining(In_points, In_polygons, want_cols, Save_meta=True, Level=Level)\n",
    "BLOCKGROUP_ID.to_csv(os.path.join(intermidiate_DataFramesPath, \"BLOCKGROUP_ID.csv\"))"
   ]
  },
  {
   "cell_type": "markdown",
   "metadata": {},
   "source": [
    "## Add census block IDs "
   ]
  },
  {
   "cell_type": "code",
   "execution_count": 45,
   "metadata": {},
   "outputs": [],
   "source": [
    "# Create the key to join OSDS points to Census blocks \n",
    "In_polygons = os.path.join(\"..\", \"Projected_data/Census\", '2010_Census_Blocks_Clean.shp')\n",
    "In_points = osds_path\n",
    "want_cols = ['Uid', 'BlockBk_ID']\n",
    "Level = 'Blocks'\n",
    "\n",
    "BLOCK_ID = Census_data_joining(In_points, In_polygons, want_cols, Save_meta=True, Level=Level)\n",
    "BLOCK_ID.to_csv(os.path.join(intermidiate_DataFramesPath, \"BLOCK_ID.csv\"))"
   ]
  },
  {
   "cell_type": "markdown",
   "metadata": {},
   "source": [
    "## Label if point is within a 2017 cesspool priority zone\n",
    "Should be none for Molokai as there dont seem to be any 2017 priority zones there "
   ]
  },
  {
   "cell_type": "code",
   "execution_count": 47,
   "metadata": {},
   "outputs": [
    {
     "name": "stdout",
     "output_type": "stream",
     "text": [
      "number of affected points = 0\n",
      "number of total systems = 1280\n",
      "percent of systems affected = 0.0\n"
     ]
    }
   ],
   "source": [
    "In_polygons = os.path.join(\"..\", \"Projected_data/Old_2017_priority_areas\", 'Old_2017_priority_areas.shp')\n",
    "new_col_name = 'In_2017_CP_zone'\n",
    "In_points = osds_path\n",
    "\n",
    "IN_2017_CP = Find_points_inside_polys(In_points, In_polygons, new_col_name)\n",
    "IN_2017_CP.to_csv(os.path.join(intermidiate_DataFramesPath, \"IN_2017_CP.csv\"))\n",
    "\n",
    "print_stats_on_bool_layers(IN_2017_CP)"
   ]
  },
  {
   "cell_type": "markdown",
   "metadata": {},
   "source": [
    "# Merge together all factors\n"
   ]
  },
  {
   "cell_type": "code",
   "execution_count": 79,
   "metadata": {},
   "outputs": [
    {
     "name": "stdout",
     "output_type": "stream",
     "text": [
      "Index(['Uid', 'BlockBk_ID'], dtype='object'), length = 1280\n",
      "Index(['Uid', 'BlockGp_ID'], dtype='object'), length = 1280\n",
      "Index(['Uid', 'Track_ID'], dtype='object'), length = 1280\n",
      "Index(['Uid', 'Flikr_ID', 'Flikr_X', 'Flikr_Y'], dtype='object'), length = 1280\n",
      "Index(['Uid', 'UserDays'], dtype='object'), length = 1280\n",
      "Index(['Uid', 'Swim_beach'], dtype='object'), length = 136\n",
      "Index(['Uid', 'dist2_coast_m'], dtype='object'), length = 1280\n",
      "Index(['Uid', 'dist2_MunWells_m'], dtype='object'), length = 1280\n",
      "Index(['Uid', 'dist2_DomWells_m'], dtype='object'), length = 1280\n",
      "Index(['Uid', 'dist2_Streams_m'], dtype='object'), length = 1280\n",
      "Index(['Uid', 'nrcs_DtoBrock', 'nrcs_FloodFreq', 'nrcs_septic_dominant',\n",
      "       'nrcs_septic_least', 'nrcs_septic_most', 'nrcs_ksat_hi', 'nrcs_ksat_lo',\n",
      "       'nrcs_ksat_rep', 'nrcs_rockFrag3in'],\n",
      "      dtype='object'), length = 1280\n",
      "Index(['Uid', 'rainfall_in'], dtype='object'), length = 1280\n",
      "Index(['Uid', 'slope_deg'], dtype='object'), length = 1274\n",
      "Index(['Uid', 'OSDS_Density_perAcre'], dtype='object'), length = 1280\n",
      "Index(['Uid', 'dist2_Wetlands_m'], dtype='object'), length = 1280\n",
      "Index(['Uid', 'WT_elev_m', 'Elevation_m', 'Dep_to_Water_m'], dtype='object'), length = 1280\n",
      "Index(['Uid', 'InSLR2030'], dtype='object'), length = 351\n",
      "Index(['Uid', 'InSLR2050'], dtype='object'), length = 360\n",
      "Index(['Uid', 'InSLR2100'], dtype='object'), length = 425\n",
      "Index(['Uid', 'In_WellCZ_B'], dtype='object'), length = 3\n",
      "Index(['Uid', 'In_WellCZ_C'], dtype='object'), length = 36\n",
      "Index(['Uid', 'RFish_rank'], dtype='object'), length = 1280\n",
      "Index(['Uid', 'Coral_rank'], dtype='object'), length = 1280\n",
      "Index(['Uid', 'In_2017_CP_zone'], dtype='object'), length = 0\n",
      "Index(['Uid', 'Wave_pwr'], dtype='object'), length = 1280\n",
      "total length is 1280\n"
     ]
    }
   ],
   "source": [
    "mergeframes_list = [BLOCK_ID, BLOCKGROUP_ID, TRACK_ID, OSDS_FLIK_ID, USERDAYS, SWIM_BEACHES,\n",
    "                    COASTLINE, MUN_WELLS, DOM_WELLS, STREAMS, SOILS_NRCS, RAINFALL,  SLOPE, OSDS_DENSITY, WETLANDS,\n",
    "                    DTOWATER, SLR_2030_yes, SLR_2050_yes, SLR_2100_yes, WellCZ_B_yes, WellCZ_C_yes, \n",
    "                    FISH, CORAL, IN_2017_CP, WAVE_POWER]  # ELEVATION  # PPL_PER_HOS,\n",
    "\n",
    "\n",
    " \n",
    "# Print out specs on the different lists\n",
    "for i in mergeframes_list: \n",
    "    print(f\"{i.columns}, length = {len(i)}\")   \n",
    "\n",
    "# Merge dataframes into master\n",
    "OSDS_Master = OSDS.copy()\n",
    "for i in mergeframes_list:\n",
    "    OSDS_Master = OSDS_Master.merge(i, on=\"Uid\", how=\"left\")\n",
    "\n",
    "# Some post processing \n",
    "OSDS_Master[\"dist2_Strm_Wtlnd_m\"] = OSDS_Master[[\"dist2_Streams_m\", \"dist2_Wetlands_m\"]].min(axis=1)\n",
    "OSDS_Master.drop_duplicates(subset=['Uid'], keep=\"first\", inplace=True)\n",
    "\n",
    "OSDS_Master.to_csv(os.path.join(\".\", \"Outputs/OSDS_Dots\", 'OSDS_MASTER_RiskFactors_v6.csv'), index =False)\n",
    "print(\"total length is {}\".format(len(OSDS_Master)))"
   ]
  },
  {
   "cell_type": "markdown",
   "metadata": {},
   "source": [
    "# Ranks and weights \n",
    "\n",
    "Ingests the OSDS data with risk factors assigned and develops the **risk-factor scores** as well as applying **weights** to each parameter to develop a final **prioritization score.**"
   ]
  },
  {
   "cell_type": "code",
   "execution_count": 80,
   "metadata": {},
   "outputs": [],
   "source": [
    "# Read in initial thresholds off of csv\n",
    "thresholds =   pd.read_csv(os.path.join(\"..\", \"Projected_data\", 'Thresholds_and_Weights_v7_expWeight.csv'), index_col=0)\n",
    "numcols=['W1_base', 'W2_eco', 'W3_anthro', 'T1', 'T2', 'T3']\n",
    "thresholds[numcols] = thresholds[numcols].apply(pd.to_numeric, errors='coerce', axis=1)"
   ]
  },
  {
   "cell_type": "code",
   "execution_count": 81,
   "metadata": {
    "scrolled": true
   },
   "outputs": [],
   "source": [
    "# Load datastets\n",
    "OSDS_Master = pd.read_csv(os.path.join(\"Outputs/OSDS_Dots\", 'OSDS_MASTER_RiskFactors_v6.csv'))\n",
    "OSDS_Master.drop_duplicates(subset=['Uid'], keep=\"first\", inplace=True)\n",
    "baseCols = ['X', 'Y', 'Island', 'TMK', 'Uid', 'In_2017_CP_zone',\n",
    "             'BlockBk_ID', 'BlockGp_ID', 'Track_ID', 'Flikr_ID']  # 'PepPerHos'\n",
    "priority_master = OSDS_Master[baseCols].copy()\n",
    "\n",
    "\n",
    "# Identify variables to consider and rank\n",
    "Rank_Cols = ['Soil_Suitability_Rank',  'SLR_Rank', 'WELLCZ_Rank', 'dist2_coast_m_Rank', \n",
    "             'dist2_Strm_Wtlnd_m_Rank', 'rainfall_in_Rank', 'dist2_MunWells_m_Rank', \n",
    "             'dist2_DomWells_m_Rank', 'Dep_to_Water_m_Rank', 'OSDS_Density_perAcre_Rank',\n",
    "             'Swim_beach_Rank', 'UserDays_Rank', 'Fish_Rank', 'Coral_Rank', 'Wave_pwr_Rank']  # , 'PepPerHos_Rank'"
   ]
  },
  {
   "cell_type": "code",
   "execution_count": 82,
   "metadata": {},
   "outputs": [],
   "source": [
    "# Deal with some naming issues\n",
    "OSDS_Master['nrcs_ksat_rep_slowwater'] = OSDS_Master['nrcs_ksat_rep'].copy()\n",
    "OSDS_Master['nrcs_ksat_rep_filtering'] = OSDS_Master['nrcs_ksat_rep'].copy()\n",
    "OSDS_Master['nrcs_ksat_rep_bottomseepage'] = OSDS_Master['nrcs_ksat_rep'].copy()"
   ]
  },
  {
   "cell_type": "markdown",
   "metadata": {},
   "source": [
    "## Create a consolidated soil suitability rank that takes into consideration: \n",
    "- Depth to Bedrock or Cemented Pan  100%       \n",
    "- Flooding or Ponding               100%  \n",
    "- Filtering Capacity (ft/d)         100% \n",
    "- Slow Water Movement (ft/d)        100% \n",
    "- Seepage From Bottom Layer (ft/d)  33%\n",
    "- Slope (percent)                   33% \n",
    "- Percent Rock Fragments > 3”       33%   "
   ]
  },
  {
   "cell_type": "code",
   "execution_count": 83,
   "metadata": {},
   "outputs": [],
   "source": [
    "# create a Soil suitability rank, with all 7 parameters equally weighted  ( high values = LEAST SUITABLE)\n",
    "\n",
    "plist =  ['nrcs_ksat_rep_slowwater', 'nrcs_DtoBrock', 'nrcs_ksat_rep_filtering', \n",
    "          'nrcs_ksat_rep_bottomseepage', 'slope_deg', 'nrcs_rockFrag3in']\n",
    "\n",
    "# Prioritize thresholded ones\n",
    "framedic_Soil_temp = {}\n",
    "for idx, col in enumerate(plist):\n",
    "    Ty, T1, T2, T3 = read_3_thresholds(thresholds, col)\n",
    "    framedic_Soil_temp[\"Rank_{}\".format(col)] = cut_by_three_numeric_thresholds(OSDS_Master, col, Ty, T1, T2, T3)\n",
    "    \n",
    "    # Soil Type Flood Frequency \n",
    "FLOOD_FREQ = OSDS_Master[[\"Uid\", 'nrcs_FloodFreq']].copy()\n",
    "FLOOD_FREQ.loc[FLOOD_FREQ['nrcs_FloodFreq'] == \"None\", 'nrcs_FloodFreq_Rank'] = \"P4\"\n",
    "FLOOD_FREQ.loc[FLOOD_FREQ['nrcs_FloodFreq'] == \"Rare\", 'nrcs_FloodFreq_Rank'] = \"P3\"\n",
    "FLOOD_FREQ.loc[FLOOD_FREQ['nrcs_FloodFreq'] == \"Occasional\", 'nrcs_FloodFreq_Rank'] = \"P2\"\n",
    "FLOOD_FREQ.loc[FLOOD_FREQ['nrcs_FloodFreq'] == \"Frequent\", 'nrcs_FloodFreq_Rank'] = \"P1\"\n",
    "framedic_Soil_temp[\"Rank_nrcs_FloodFreq\"] = FLOOD_FREQ[[\"Uid\", 'nrcs_FloodFreq_Rank']]\n",
    "\n",
    "# Change out the P values with numeric values\n",
    "for key in framedic_Soil_temp.keys():\n",
    "    framedic_Soil_temp[key].replace(to_replace = \"P1\", value = 99, inplace = True)\n",
    "    framedic_Soil_temp[key].replace(to_replace = \"P2\", value = 66, inplace = True)\n",
    "    framedic_Soil_temp[key].replace(to_replace = \"P3\", value = 33, inplace = True)\n",
    "    framedic_Soil_temp[key].replace(to_replace = \"P4\", value = 1, inplace = True)\n",
    "    \n",
    "# Merge dataframes into master\n",
    "SOIL_MASTER = priority_master.copy()\n",
    "for i in framedic_Soil_temp.keys():\n",
    "    SOIL_MASTER = SOIL_MASTER.merge(framedic_Soil_temp[i], on=\"Uid\", how=\"left\")   \n",
    "    \n",
    "# This contains the internal weightings for the soil suitability rank\n",
    "Prioritization_vars_dic = {\n",
    "    'nrcs_ksat_rep_slowwater_Rank':1,\n",
    "    'nrcs_ksat_rep_bottomseepage_Rank':0.33,\n",
    "    'nrcs_ksat_rep_filtering_Rank':1,\n",
    "    'nrcs_DtoBrock_Rank':1,\n",
    "    'nrcs_FloodFreq_Rank':1,\n",
    "    'slope_deg_Rank':0.33,\n",
    "    'nrcs_rockFrag3in_Rank':0.33  }\n",
    "\n",
    "# Run the interlal weightings for the suitibility rank\n",
    "for var in Prioritization_vars_dic.keys():\n",
    "    SOIL_MASTER[var] = SOIL_MASTER[var]*Prioritization_vars_dic[var]\n",
    "\n",
    "SOIL_MASTER['Soil_Suitability_Rank'] = SOIL_MASTER[list(Prioritization_vars_dic.keys())].mean(axis=1)\n",
    "# Save the consolidated soil rank by itself\n",
    "SOIL_MASTER = SOIL_MASTER[['Uid', 'Soil_Suitability_Rank']]"
   ]
  },
  {
   "cell_type": "markdown",
   "metadata": {},
   "source": [
    "## Prioritization Function: Threshold then 1d-convective dispersive decay: 100 pt scale"
   ]
  },
  {
   "cell_type": "code",
   "execution_count": 84,
   "metadata": {},
   "outputs": [],
   "source": [
    "# Threshold then exponential decay\n",
    "def threshold_then_decay(OSDS_df, col_name, T1, ascending):\n",
    "    # reminder, 100 is bad/more impactful, 0 is good/least impactful\n",
    "    \n",
    "    return_frame = OSDS_df[[\"Uid\", col_name]].copy()\n",
    "    \n",
    "    scaler = return_frame[col_name].median()*.1   # this scale factor controls the shape of the exponential decay and essentially revises the value at which scores transition from high (90s and above) to lower\n",
    "    #print(\"for {} scaler is {}\".format(col_name, scaler))\n",
    "    \n",
    "    if ascending == True:\n",
    "        return_frame.loc[return_frame[col_name] < T1, '{}_Rank'.format(col_name)] = 100\n",
    "        return_frame.loc[return_frame[col_name] > T1, '{}_Rank'.format(col_name)] = 100*((T1+scaler)/(return_frame[col_name]+scaler))\n",
    "       \n",
    "        \n",
    "    if ascending == False:\n",
    "        return_frame.loc[return_frame[col_name] > T1, '{}_Rank'.format(col_name)] = 100\n",
    "        return_frame.loc[return_frame[col_name] < T1, '{}_Rank'.format(col_name)] = 100*(return_frame[col_name]+scaler)/(T1+scaler)\n",
    "\n",
    "    return_frame = return_frame[[\"Uid\",'{}_Rank'.format(col_name)]]\n",
    "    \n",
    "    return return_frame \n",
    "\n",
    "\n",
    "# a 0 to 100 scaler function\n",
    "def MY_minmaxscaler_dfCol(col, reverse=False):   \n",
    "    # Reverse True indicates that bigger data values   (e.g dist to coast) get smaller ranks meaning less impact \n",
    "    # Reverse False indicates that smaller data values (e.g OSDS_density)  get smaller ranks meaning less impact  \n",
    "    \n",
    "    mx = col.max()\n",
    "    mn = col.min()   \n",
    "    if reverse==False:\n",
    "        scaled_series = 100*(col-mn)/(mx-mn)       \n",
    "    if reverse==True:\n",
    "        scaled_series = 100*(col-mx)/(mn-mx)\n",
    "    \n",
    "    return scaled_series"
   ]
  },
  {
   "cell_type": "code",
   "execution_count": 85,
   "metadata": {},
   "outputs": [],
   "source": [
    "framedic_decay = {}\n",
    "\n",
    "# Loop over the non-soil parameters and add their ranks to the dic\n",
    "plist_ascending =  ['dist2_coast_m', 'dist2_Strm_Wtlnd_m', 'dist2_MunWells_m',\n",
    "                    'dist2_DomWells_m', 'Dep_to_Water_m', 'rainfall_in', 'Wave_pwr'] \n",
    "plist_decending =  ['OSDS_Density_perAcre', 'UserDays']\n",
    "\n",
    "for idx, col in enumerate(plist_ascending):\n",
    "    Ty, T1, T2, T3 = read_3_thresholds(thresholds, col)\n",
    "    framedic_decay[\"Rank_{}\".format(col)] = threshold_then_decay(OSDS_Master, col, T1, ascending=True)\n",
    "\n",
    "for idx, col in enumerate(plist_decending):\n",
    "    Ty, T1, T2, T3 = read_3_thresholds(thresholds, col)\n",
    "    framedic_decay[\"Rank_{}\".format(col)] = threshold_then_decay(OSDS_Master, col, T1, ascending=False) "
   ]
  },
  {
   "cell_type": "code",
   "execution_count": 86,
   "metadata": {},
   "outputs": [],
   "source": [
    "# Add in the non-loopable (thresholded) parameters to the framedic\n",
    "\n",
    "# Add the soil ranking\n",
    "framedic_decay['SOIL_MASTER'] = SOIL_MASTER\n",
    "\n",
    "# Sea Level Rise  'InSLR2030', 'InSLR2050',  'InSLR2100'\n",
    "SLR = OSDS_Master[[\"Uid\", 'InSLR2030', 'InSLR2050',  'InSLR2100']].copy()\n",
    "SLR['SLR_Rank'] = 0\n",
    "SLR.loc[SLR['InSLR2100'] == True, 'SLR_Rank'] = 33\n",
    "SLR.loc[SLR['InSLR2050'] == True, 'SLR_Rank'] = 66\n",
    "SLR.loc[SLR['InSLR2030'] == True, 'SLR_Rank'] = 100\n",
    "framedic_decay[\"Rank_SLR\"] = SLR[[\"Uid\", 'SLR_Rank']]\n",
    "\n",
    "# Well Capture Zones\n",
    "WELLCZs = OSDS_Master[[\"Uid\", 'In_WellCZ_B', 'In_WellCZ_C']].copy()\n",
    "WELLCZs['WELLCZ_Rank'] = 0\n",
    "WELLCZs.loc[WELLCZs['In_WellCZ_C'] == True, 'WELLCZ_Rank'] = 50\n",
    "WELLCZs.loc[WELLCZs['In_WellCZ_B'] == True, 'WELLCZ_Rank'] = 100\n",
    "framedic_decay[\"Rank_WELLCZ\"] = WELLCZs[[\"Uid\", 'WELLCZ_Rank']]\n",
    "\n",
    "# Swim beaches\n",
    "SWIMBEACH = OSDS_Master[[\"Uid\", 'Swim_beach']].copy()\n",
    "SWIMBEACH['Swim_beach_Rank'] = 0\n",
    "SWIMBEACH.loc[SWIMBEACH['Swim_beach'] == True, 'Swim_beach_Rank'] = 100\n",
    "framedic_decay[\"Rank_Swim_beach\"] = SWIMBEACH[[\"Uid\", 'Swim_beach_Rank']]\n",
    "\n",
    "# Fish   # Note that the original col was named RFish_rank with a small r the Fish_Rank with big R is the 0-100 score\n",
    "FISHY = OSDS_Master[[\"Uid\", 'RFish_rank']].copy()\n",
    "FISHY['Fish_Rank'] = 0\n",
    "FISHY.loc[FISHY['RFish_rank'] == 1, 'Fish_Rank'] = 100\n",
    "FISHY.loc[FISHY['RFish_rank'] == 2, 'Fish_Rank'] = 66\n",
    "FISHY.loc[FISHY['RFish_rank'] == 3, 'Fish_Rank'] = 33\n",
    "FISHY.loc[FISHY['RFish_rank'] == 4, 'Fish_Rank'] = 0\n",
    "framedic_decay[\"Rank_Fish\"] = FISHY[[\"Uid\", 'Fish_Rank']]\n",
    "\n",
    "# Coral    Note that the original col was named Coral_rank with a small r the Coral_Rank with big R is the 0-100 score\n",
    "CORALY = OSDS_Master[[\"Uid\", 'Coral_rank']].copy()\n",
    "CORALY['Coral_Rank'] = 0\n",
    "CORALY.loc[CORALY['Coral_rank'] == 1, 'Coral_Rank'] = 100\n",
    "CORALY.loc[CORALY['Coral_rank'] == 2, 'Coral_Rank'] = 66\n",
    "CORALY.loc[CORALY['Coral_rank'] == 3, 'Coral_Rank'] = 33\n",
    "CORALY.loc[CORALY['Coral_rank'] == 4, 'Coral_Rank'] = 0\n",
    "framedic_decay[\"Rank_Coral\"] = CORALY[[\"Uid\", 'Coral_Rank']]\n",
    "\n",
    "\n",
    "# Add number of people per household\n",
    "####Pep_hos = OSDS_Master[[\"Uid\", 'PepPerHos']].copy()\n",
    "####Pep_hos['PepPerHos_Rank'] = MY_minmaxscaler_dfCol(OSDS_Master['PepPerHos'], reverse=False)\n",
    "####framedic_decay[\"Rank_PepPerHos\"] = Pep_hos[[\"Uid\", 'PepPerHos_Rank']]"
   ]
  },
  {
   "cell_type": "code",
   "execution_count": 87,
   "metadata": {},
   "outputs": [
    {
     "name": "stdout",
     "output_type": "stream",
     "text": [
      "1280\n"
     ]
    },
    {
     "data": {
      "image/png": "[encoded data removed]",
      "text/plain": [
       "<matplotlib.figure.Figure at 0x16b67f3beb8>"
      ]
     },
     "metadata": {
      "needs_background": "light"
     },
     "output_type": "display_data"
    }
   ],
   "source": [
    "# Merge dataframes into master\n",
    "DECAY_PRIORITY_MASTER = priority_master.copy()\n",
    "for i in framedic_decay.keys():\n",
    "    DECAY_PRIORITY_MASTER = DECAY_PRIORITY_MASTER.merge(framedic_decay[i], on=\"Uid\", how=\"left\")\n",
    "\n",
    "# Create the single mean rank\n",
    "DECAY_PRIORITY_MASTER['Priority_mean'] = DECAY_PRIORITY_MASTER[Rank_Cols].mean(axis=1)\n",
    "\n",
    "print(len(DECAY_PRIORITY_MASTER))\n",
    "DECAY_PRIORITY_MASTER['Priority_mean'].hist(bins=50)\n",
    "\n",
    "#Print out a copy to use in the sensitivity testing notebook\n",
    "DECAY_PRIORITY_MASTER.to_csv(os.path.join(tempspace, \"DECAY_PRIORITY_MASTER.csv\"), index=False)"
   ]
  },
  {
   "cell_type": "code",
   "execution_count": 88,
   "metadata": {},
   "outputs": [
    {
     "data": {
      "image/png": "[encoded data removed]",
      "text/plain": [
       "<matplotlib.figure.Figure at 0x16b6a2dabe0>"
      ]
     },
     "metadata": {
      "needs_background": "light"
     },
     "output_type": "display_data"
    }
   ],
   "source": [
    "# Plot the comparison between individual risk factor scores and the final priority score.  \n",
    "fig, ax = plt.subplots(3,5, figsize=(16, 9))\n",
    "for idx, col in enumerate(Rank_Cols):\n",
    "    ax = plt.subplot(3,5,idx+1)\n",
    "    x = DECAY_PRIORITY_MASTER['Priority_mean']\n",
    "    y = DECAY_PRIORITY_MASTER[col]\n",
    "    plt.scatter(x, y, marker=\".\", color='darkblue')\n",
    "    plt.ylabel(col); plt.xlabel('Final Priority Score')\n",
    "    plt.tight_layout()"
   ]
  },
  {
   "cell_type": "markdown",
   "metadata": {},
   "source": [
    "# Base Scenario each factor Weighted between 1-5 by expert panel \n",
    "\n",
    "This framework provides the ability to weigh the influence of each risk factor on the final priority score for each unit. Weighting can be done by multiplying the individual parameter score by a weight value, for example a weight value of two (2) can be used if it is desired for a parameter to be twice as important as those with a weighting value of one (1).\n",
    "\n",
    "\n",
    "Note, at one point I was scaling the final priority score into 0-100 space for comparisons between scenarios, but this might not be the best idea. used this syntax BASE_PRIORITY_MASTER['Weighted_Priority_mean'] = MY_minmaxscaler_dfCol(BASE_PRIORITY_MASTER['Weighted_Priority_mean'], reverse=False)"
   ]
  },
  {
   "cell_type": "code",
   "execution_count": 89,
   "metadata": {},
   "outputs": [
    {
     "data": {
      "image/png": "[encoded data removed]",
      "text/plain": [
       "<matplotlib.figure.Figure at 0x16b6ae127b8>"
      ]
     },
     "metadata": {
      "needs_background": "light"
     },
     "output_type": "display_data"
    }
   ],
   "source": [
    "BASE_PRIORITY_MASTER = DECAY_PRIORITY_MASTER[baseCols].copy()  # Create base for weighting\n",
    "\n",
    "# Apply weights to each column\n",
    "for i in Rank_Cols: \n",
    "    col = i.replace(\"_Rank\", \"\")\n",
    "    weight = thresholds.loc[col]['W1_base']\n",
    "    \n",
    "    # Average the two methods and apply weights\n",
    "    BASE_PRIORITY_MASTER[i] = DECAY_PRIORITY_MASTER[i]*weight\n",
    "    \n",
    "    \n",
    "BASE_PRIORITY_MASTER['Weighted_Priority_mean'] = BASE_PRIORITY_MASTER[Rank_Cols].mean(axis=1)\n",
    "\n",
    "# prepare the final to be able to determine if more than 50% of the OSDS units are in a Priority zone (average wont count NaN as 0)\n",
    "BASE_PRIORITY_MASTER['In_2017_CP_zone'].fillna(False, inplace=True)\n",
    "\n",
    "# Plots \n",
    "BASE_PRIORITY_MASTER['Weighted_Priority_mean'].hist(bins=50)\n",
    "plt.title('Distribtution of scaled priority scores')\n",
    "\n",
    "BASE_PRIORITY_MASTER.to_csv(os.path.join(tempspace, \"BASE_PRIORITY_MASTER.csv\"))"
   ]
  },
  {
   "cell_type": "markdown",
   "metadata": {},
   "source": [
    "## Consolidate Individual OSDS units into Census Polygon groups:\n",
    "Different resolutions include: - 2010 Census Tracks, - 2010 Census Block Groups, - 2010 Census Blocks\n",
    "\n",
    "This assigns the average final priority score of the OSDS units that fall within each geographic polygon to the census unit. A parameter to exclude units that do not contain some minimum number of OSDS is available to avoid biasing the prioritization by areas with an insignificant number of OSDS units\n",
    "\n",
    "\n",
    "#####  Also delineate Priority categories (High, Med Low) Categories are defined primarily by our ranking¶\n",
    "- with top 10% highest priority scores as High\n",
    "- top 11% to 50% as Medium\n",
    "- Bottom 50% as low \n",
    "\n",
    "Then the zones in the 2017 priority zones are delineated by a +\n",
    "\n",
    "Therefore the final Priority categories are defined for each census zone (tracks, blocks, block groups) where the average priority score of all of the OSDS units falling into the given geographic area (of those areas where the number of OSDS units is greater than the cutoff (25 for tracks, 20 for block groups, 15 for blocks) is:\n",
    "\n",
    "- **High Priority +**:  the top 10% of the zone-averaged priority scores that also have 50% or more of their OSDS units falling within a 2017 priority zone. \n",
    "- **High Priority**:  the top 10% of the zone-averaged priority scores that do not have 50% or more of their OSDS units falling within a 2017 priority zone.\n",
    "- **Medium Priority +**:  the middle 40% (50%-10%) of the zone-averaged priority scores that also have 50% or more of their OSDS units falling within a 2017 priority zone.\n",
    "- **Medium Priority**:  the middle 40% (50%-10%) of the zone-averaged priority scores that do not have 50% or more of their OSDS units falling within a 2017 priority zone.\n",
    "- **Low Priority +**:  the bottom 50% of the zone-averaged priority scores that do have 50% or more of their OSDS units falling within a 2017 priority zone.\n",
    "- **Low Priority:**  the bottom 50% of the zone-averaged priority scores that do have 50% or more of their OSDS units falling within a 2017 priority zone."
   ]
  },
  {
   "cell_type": "code",
   "execution_count": 92,
   "metadata": {},
   "outputs": [
    {
     "data": {
      "text/plain": [
       "<matplotlib.text.Text at 0x16b6b287550>"
      ]
     },
     "execution_count": 92,
     "metadata": {},
     "output_type": "execute_result"
    },
    {
     "data": {
      "image/png": "[encoded data removed]",
      "text/plain": [
       "<matplotlib.figure.Figure at 0x16b6ae1d908>"
      ]
     },
     "metadata": {
      "needs_background": "light"
     },
     "output_type": "display_data"
    }
   ],
   "source": [
    "# Consolidate the many CP units into tracks, remembering that the \n",
    "UnitCol = 'Track_ID'\n",
    "Tracks_priority_frame_base = group_by_census_unit(BASE_PRIORITY_MASTER, UnitCol, omit_less_than=25)\n",
    "Tracks_priority_frame_base['OSDS_count'].hist(bins=len(Tracks_priority_frame_base['OSDS_count'].unique()))\n",
    "plt.title(\"Histogram of the number of CP in each Census Track\"); plt.xlabel(\"Number of CP in track\"); plt.ylabel(\"Frequency\")"
   ]
  },
  {
   "cell_type": "code",
   "execution_count": 95,
   "metadata": {},
   "outputs": [],
   "source": [
    "# Cut columns to desired ones \n",
    "WantCols = ['Track_ID', 'Final_Prioity_Score','Soil_Suitability_Rank', 'SLR_Rank', 'WELLCZ_Rank',\n",
    "       'dist2_coast_m_Rank', 'dist2_Strm_Wtlnd_m_Rank', 'rainfall_in_Rank',\n",
    "       'dist2_MunWells_m_Rank', 'dist2_DomWells_m_Rank', 'Dep_to_Water_m_Rank',\n",
    "       'OSDS_Density_perAcre_Rank', 'Swim_beach_Rank', 'UserDays_Rank', \"Fish_Rank\", \"Coral_Rank\", 'Wave_pwr_Rank',\n",
    "       'OSDS_count']   # will delete OSDS count once is in name col   #  'PepPerHos_Rank',\n",
    " \n",
    "compare_priority_score_Track = Tracks_priority_frame_base[WantCols]\n",
    "compare_priority_score_Track = compare_priority_score_Track.sort_values(\"Final_Prioity_Score\", ascending=False)\n",
    "\n",
    "\n",
    "# Get and set track names to the index\n",
    "trackpath = os.path.join(\"..\", \"Projected_data/Census/With_2017_priority\", '2010_Census_Tracts_Meta_w2017.shp') \n",
    "Track_meta = get_track_names(trackpath, \"Track_ID\")  # in the functions file\n",
    "compare_priority_score_Track = compare_priority_score_Track.merge(Track_meta, on='Track_ID', how='left')\n",
    "# Add on the # of CPs to the index \n",
    "compare_priority_score_Track['Name_ID'] = compare_priority_score_Track['Name_ID']+\": CPs=\"+compare_priority_score_Track['OSDS_count'].astype(str)\n",
    "compare_priority_score_Track = compare_priority_score_Track.set_index('Name_ID')                                  # Convert to pandas bliss\n",
    "del compare_priority_score_Track['Track_ID'];  del compare_priority_score_Track['OSDS_count']\n",
    "\n",
    "# make \n",
    "renamas = {'Final_Prioity_Score':'Final Prioity Score', \n",
    "            'Soil_Suitability_Rank':'Soil Suitability',\n",
    "            'SLR_Rank':'Sea Level Rise',\n",
    "            'WELLCZ_Rank':'Well Capture Zones',\n",
    "            'dist2_coast_m_Rank':'Dist. to Coast',\n",
    "            'dist2_Strm_Wtlnd_m_Rank':'Dist. to Strms/Wtlnds',\n",
    "            'rainfall_in_Rank':'Rainfall',\n",
    "            'dist2_MunWells_m_Rank':'Dist. to Muni. Wells',\n",
    "            'dist2_DomWells_m_Rank':'Dist. to Dom. Wells',\n",
    "            'Dep_to_Water_m_Rank':'Depth to GW',\n",
    "            'OSDS_Density_perAcre_Rank':'OSDS Density',\n",
    "            'Swim_beach_Rank':'Swim Beaches',\n",
    "            'UserDays_Rank':'Coastline Usage',\n",
    "            'Fish_Rank':'Reef Fishery Priority',\n",
    "            'Coral_Rank':'Coral Reef Priority', \n",
    "            'Wave_pwr_Rank': 'Wave Power'}    # , 'PepPerHos_Rank':'People per House'}\n",
    "\n",
    "compare_priority_score_Track.rename(columns=renamas, inplace=True)     # Rename to col that you want"
   ]
  },
  {
   "cell_type": "code",
   "execution_count": 99,
   "metadata": {},
   "outputs": [
    {
     "data": {
      "text/html": [
       "<div>\n",
       "<style scoped>\n",
       "    .dataframe tbody tr th:only-of-type {\n",
       "        vertical-align: middle;\n",
       "    }\n",
       "\n",
       "    .dataframe tbody tr th {\n",
       "        vertical-align: top;\n",
       "    }\n",
       "\n",
       "    .dataframe thead th {\n",
       "        text-align: right;\n",
       "    }\n",
       "</style>\n",
       "<table border=\"1\" class=\"dataframe\">\n",
       "  <thead>\n",
       "    <tr style=\"text-align: right;\">\n",
       "      <th></th>\n",
       "      <th>Final Prioity Score</th>\n",
       "      <th>Soil Suitability</th>\n",
       "      <th>Sea Level Rise</th>\n",
       "      <th>Well Capture Zones</th>\n",
       "      <th>Dist. to Coast</th>\n",
       "      <th>Dist. to Strms/Wtlnds</th>\n",
       "      <th>Rainfall</th>\n",
       "      <th>Dist. to Muni. Wells</th>\n",
       "      <th>Dist. to Dom. Wells</th>\n",
       "      <th>Depth to GW</th>\n",
       "      <th>OSDS Density</th>\n",
       "      <th>Swim Beaches</th>\n",
       "      <th>Coastline Usage</th>\n",
       "      <th>Reef Fishery Priority</th>\n",
       "      <th>Coral Reef Priority</th>\n",
       "      <th>Wave Power</th>\n",
       "    </tr>\n",
       "    <tr>\n",
       "      <th>Name_ID</th>\n",
       "      <th></th>\n",
       "      <th></th>\n",
       "      <th></th>\n",
       "      <th></th>\n",
       "      <th></th>\n",
       "      <th></th>\n",
       "      <th></th>\n",
       "      <th></th>\n",
       "      <th></th>\n",
       "      <th></th>\n",
       "      <th></th>\n",
       "      <th></th>\n",
       "      <th></th>\n",
       "      <th></th>\n",
       "      <th></th>\n",
       "      <th></th>\n",
       "    </tr>\n",
       "  </thead>\n",
       "  <tbody>\n",
       "    <tr>\n",
       "      <th>: East Moloka'i: T#318: CPs=718</th>\n",
       "      <td>115.007776</td>\n",
       "      <td>60.846099</td>\n",
       "      <td>155.323120</td>\n",
       "      <td>1.462396</td>\n",
       "      <td>124.486780</td>\n",
       "      <td>73.701698</td>\n",
       "      <td>107.464330</td>\n",
       "      <td>87.554432</td>\n",
       "      <td>110.637635</td>\n",
       "      <td>273.86731</td>\n",
       "      <td>148.607086</td>\n",
       "      <td>6.406685</td>\n",
       "      <td>4.582604</td>\n",
       "      <td>198.0</td>\n",
       "      <td>198.0</td>\n",
       "      <td>176.344114</td>\n",
       "    </tr>\n",
       "    <tr>\n",
       "      <th>: West Moloka'i: T#295: CPs=560</th>\n",
       "      <td>60.734713</td>\n",
       "      <td>42.531491</td>\n",
       "      <td>2.491071</td>\n",
       "      <td>8.571429</td>\n",
       "      <td>24.822201</td>\n",
       "      <td>67.704747</td>\n",
       "      <td>67.001381</td>\n",
       "      <td>62.692798</td>\n",
       "      <td>21.451707</td>\n",
       "      <td>38.05979</td>\n",
       "      <td>102.112597</td>\n",
       "      <td>29.285714</td>\n",
       "      <td>7.945626</td>\n",
       "      <td>198.0</td>\n",
       "      <td>198.0</td>\n",
       "      <td>40.350147</td>\n",
       "    </tr>\n",
       "  </tbody>\n",
       "</table>\n",
       "</div>"
      ],
      "text/plain": [
       "                                  Final Prioity Score  Soil Suitability  \\\n",
       "Name_ID                                                                   \n",
       " : East Moloka'i: T#318: CPs=718           115.007776         60.846099   \n",
       " : West Moloka'i: T#295: CPs=560            60.734713         42.531491   \n",
       "\n",
       "                                  Sea Level Rise  Well Capture Zones  \\\n",
       "Name_ID                                                                \n",
       " : East Moloka'i: T#318: CPs=718      155.323120            1.462396   \n",
       " : West Moloka'i: T#295: CPs=560        2.491071            8.571429   \n",
       "\n",
       "                                  Dist. to Coast  Dist. to Strms/Wtlnds  \\\n",
       "Name_ID                                                                   \n",
       " : East Moloka'i: T#318: CPs=718      124.486780              73.701698   \n",
       " : West Moloka'i: T#295: CPs=560       24.822201              67.704747   \n",
       "\n",
       "                                    Rainfall  Dist. to Muni. Wells  \\\n",
       "Name_ID                                                              \n",
       " : East Moloka'i: T#318: CPs=718  107.464330             87.554432   \n",
       " : West Moloka'i: T#295: CPs=560   67.001381             62.692798   \n",
       "\n",
       "                                  Dist. to Dom. Wells  Depth to GW  \\\n",
       "Name_ID                                                              \n",
       " : East Moloka'i: T#318: CPs=718           110.637635    273.86731   \n",
       " : West Moloka'i: T#295: CPs=560            21.451707     38.05979   \n",
       "\n",
       "                                  OSDS Density  Swim Beaches  Coastline Usage  \\\n",
       "Name_ID                                                                         \n",
       " : East Moloka'i: T#318: CPs=718    148.607086      6.406685         4.582604   \n",
       " : West Moloka'i: T#295: CPs=560    102.112597     29.285714         7.945626   \n",
       "\n",
       "                                  Reef Fishery Priority  Coral Reef Priority  \\\n",
       "Name_ID                                                                        \n",
       " : East Moloka'i: T#318: CPs=718                  198.0                198.0   \n",
       " : West Moloka'i: T#295: CPs=560                  198.0                198.0   \n",
       "\n",
       "                                  Wave Power  \n",
       "Name_ID                                       \n",
       " : East Moloka'i: T#318: CPs=718  176.344114  \n",
       " : West Moloka'i: T#295: CPs=560   40.350147  "
      ]
     },
     "execution_count": 99,
     "metadata": {},
     "output_type": "execute_result"
    }
   ],
   "source": [
    "compare_priority_score_Track"
   ]
  },
  {
   "cell_type": "code",
   "execution_count": null,
   "metadata": {},
   "outputs": [],
   "source": []
  },
  {
   "cell_type": "code",
   "execution_count": 104,
   "metadata": {
    "scrolled": false
   },
   "outputs": [
    {
     "name": "stdout",
     "output_type": "stream",
     "text": [
      "The island of Molokai contains 1278 cesspools and has a total of 3 census tracts although only 2 tracts contained more than 25 cesspools and were thus categorized with the HCPT. Of these tracts 50% or 1 of them were categorized as high (1) priority (classified as the top 25% of census tracts statewide), 0% or 0 of them were categorized as medium (2) priority and 50% or 1 of them were categorized as low (3) priority. The total number of cesspools on Molokai catergorized as high (1) priority was 718, with 0 and 560 as medium (2) and low (3) priority, respectivly.\n"
     ]
    },
    {
     "data": {
      "image/png": "[encoded data removed]",
      "text/plain": [
       "<matplotlib.figure.Figure at 0x16b6a9c3a58>"
      ]
     },
     "metadata": {
      "needs_background": "light"
     },
     "output_type": "display_data"
    }
   ],
   "source": [
    "# Plot out comparison heatmap \n",
    "\n",
    "Total_census_tracts = 3\n",
    "\n",
    "fig, ax = plt.subplots(figsize=(20, 3))\n",
    "total_num = len(compare_priority_score_Track)\n",
    "#plt.title(\"Ranks for all {} census Tracks\".format(total_num), fontsize=18, y=1.05)\n",
    "plt.tick_params(axis='x', which='major', labelsize=10, labelbottom = True, bottom=True, top = True, labeltop=True)\n",
    "plt.xticks(rotation=70)\n",
    "bar_label = \"Priority score. Note total # of census units considered is {}\".format(len(Tracks_priority_frame_base['OSDS_count']))\n",
    "g= sns.heatmap(compare_priority_score_Track, annot=True,  cmap = 'YlOrBr', fmt=\".1f\", cbar_kws={'label': bar_label, \"shrink\": 0.5})\n",
    "plt.savefig(os.path.join(\".\", \"Outputs/Figures\", \"Tracks_Master_scores_chart.pdf\"), bbox_inches='tight')\n",
    "plt.savefig(os.path.join(\".\", \"Outputs/Figures\", \"Tracks_Master_scores_chart.png\"), bbox_inches='tight')\n",
    "\n",
    "print_info_for_islands(\"Molokai\", Tracks_priority_frame_base, Total_census_tracts)"
   ]
  },
  {
   "cell_type": "markdown",
   "metadata": {},
   "source": [
    "#### Quick calculation of how many cesspools are in each catergory "
   ]
  },
  {
   "cell_type": "code",
   "execution_count": 105,
   "metadata": {},
   "outputs": [
    {
     "data": {
      "text/html": [
       "<div>\n",
       "<style scoped>\n",
       "    .dataframe tbody tr th:only-of-type {\n",
       "        vertical-align: middle;\n",
       "    }\n",
       "\n",
       "    .dataframe tbody tr th {\n",
       "        vertical-align: top;\n",
       "    }\n",
       "\n",
       "    .dataframe thead th {\n",
       "        text-align: right;\n",
       "    }\n",
       "</style>\n",
       "<table border=\"1\" class=\"dataframe\">\n",
       "  <thead>\n",
       "    <tr style=\"text-align: right;\">\n",
       "      <th></th>\n",
       "      <th>OSDS_count</th>\n",
       "      <th>OSDS_pct_in_rank</th>\n",
       "    </tr>\n",
       "    <tr>\n",
       "      <th>Final_Cat_Ranking</th>\n",
       "      <th></th>\n",
       "      <th></th>\n",
       "    </tr>\n",
       "  </thead>\n",
       "  <tbody>\n",
       "    <tr>\n",
       "      <th>High</th>\n",
       "      <td>718</td>\n",
       "      <td>56.09375</td>\n",
       "    </tr>\n",
       "    <tr>\n",
       "      <th>Low</th>\n",
       "      <td>560</td>\n",
       "      <td>43.75000</td>\n",
       "    </tr>\n",
       "  </tbody>\n",
       "</table>\n",
       "</div>"
      ],
      "text/plain": [
       "                   OSDS_count  OSDS_pct_in_rank\n",
       "Final_Cat_Ranking                              \n",
       "High                      718          56.09375\n",
       "Low                       560          43.75000"
      ]
     },
     "execution_count": 105,
     "metadata": {},
     "output_type": "execute_result"
    }
   ],
   "source": [
    "OSDS_Sum_Piv = pd.pivot_table(Tracks_priority_frame_base, index='Final_Cat_Ranking', aggfunc = 'sum')\n",
    "OSDS_Sum_Piv['OSDS_pct_in_rank'] = OSDS_Sum_Piv['OSDS_count']/len(OSDS)*100\n",
    "OSDS_Sum_Piv[['OSDS_count', 'OSDS_pct_in_rank']]\n",
    "# 62% in Low,  21% in Med, 16% in High"
   ]
  },
  {
   "cell_type": "markdown",
   "metadata": {},
   "source": [
    "## Save Census Area Shapefiles\n",
    "!! SUPER LONG RUNTIMES ON CELLS BELOW !!"
   ]
  },
  {
   "cell_type": "markdown",
   "metadata": {},
   "source": [
    "### Print Shapefile, summarized by census Tracts \n"
   ]
  },
  {
   "cell_type": "code",
   "execution_count": 107,
   "metadata": {
    "scrolled": true
   },
   "outputs": [],
   "source": [
    "# For tracks \n",
    "UnitCol=['Track_ID']\n",
    "# Cols for all of the below\n",
    "OutCols = ['Final_Prioity_Score', 'OSDS_count']  #  'PepPerHos', # 'Final_Prioity_Rank', \n",
    "all_cols = UnitCol + OutCols + Rank_Cols +['In_2017_CP_zone', 'Final_Cat_Ranking', 'Fin_Rank',]   # 'Final_Cat_Ranking'  comment out rank cols to just print simple shapefile\n",
    "clean_cols = UnitCol + OutCols +['In_2017_CP_zone','Final_Cat_Ranking', 'Fin_Rank']   #  \n",
    "\n",
    "# Group up the OSDS units into census areas \n",
    "Tracks_priority_frame = group_by_census_unit(BASE_PRIORITY_MASTER, UnitCol, omit_less_than=25)\n",
    "Tracks_priority_frame =   Tracks_priority_frame.merge(Track_meta, on='Track_ID', how='left')  # Add in the name ID from the Track_meta in above cell\n",
    "Tracks_priority_frame['Name_ID'] = Tracks_priority_frame['Name_ID']+\": CPs=\"+Tracks_priority_frame['OSDS_count'].astype(str)\n",
    "Tracks_priority_frame.set_index(\"Name_ID\", drop=True, inplace=True)\n",
    "\n",
    "# Save Full Shapefile \n",
    "Pivot_df = Tracks_priority_frame[all_cols]\n",
    "in_polygon_blocktrack = os.path.join(\"..\", \"Projected_data/Census\", '2010_census_tracts_Clean.shp')\n",
    "OutShpPath = os.path.join(\".\", \"Outputs\", \"Census_aggregared_SHPs\", 'Final_Priority_Tracts_Full.shp')  \n",
    "make_census_unit_SHP(Pivot_df, all_cols, OutShpPath, in_polygon_blocktrack)\n",
    "Pivot_df.to_csv(os.path.join(\".\", \"Outputs/Census_aggregared_CSVs\", 'Final_Priority_Tracts_Full.csv'))\n",
    "\n",
    "# Save clean Shapefile \n",
    "Pivot_df = Tracks_priority_frame[clean_cols]\n",
    "in_polygon_blocktrack = os.path.join(\"..\", \"Projected_data/Census\", '2010_census_tracts_Clean.shp')\n",
    "OutShpPath = os.path.join(\".\", \"Outputs\", \"Census_aggregared_SHPs\", 'Final_Priority_Tracts_Clean.shp')  \n",
    "make_census_unit_SHP(Pivot_df, clean_cols, OutShpPath, in_polygon_blocktrack)\n",
    "Pivot_df.to_csv(os.path.join(\".\", \"Outputs/Census_aggregared_CSVs\", 'Final_Priority_Tracts_Clean.csv'))"
   ]
  },
  {
   "cell_type": "markdown",
   "metadata": {},
   "source": [
    "### Print Shapefile, summarized by census Block_Groups "
   ]
  },
  {
   "cell_type": "code",
   "execution_count": 109,
   "metadata": {},
   "outputs": [],
   "source": [
    "UnitCol=['BlockGp_ID']\n",
    "# Cols for all of the below\n",
    "OutCols = ['Final_Prioity_Score', 'OSDS_count']  #  'PepPerHos', # 'Final_Prioity_Rank', \n",
    "all_cols = UnitCol + OutCols + Rank_Cols +['In_2017_CP_zone', 'Final_Cat_Ranking', 'Fin_Rank',]   # 'Final_Cat_Ranking'  comment out rank cols to just print simple shapefile\n",
    "clean_cols = UnitCol + OutCols +['In_2017_CP_zone','Final_Cat_Ranking', 'Fin_Rank']   # \n",
    "\n",
    "Block_groups_priority_frame = group_by_census_unit(BASE_PRIORITY_MASTER, UnitCol, omit_less_than=20)\n",
    "# get the name metadata from other metadata files\n",
    "Block_groups_meta = get_blkGrp_names(os.path.join(\"..\", \"Projected_data/Census/With_2017_priority\", '2010_Census_Block_Groups_Meta_w2017.shp'), 'BlockGp_ID')\n",
    "Block_groups_priority_frame =   Block_groups_priority_frame.merge(Block_groups_meta, on=UnitCol, how='left')  # Add in the name ID from the Track_meta in above cell\n",
    "Block_groups_priority_frame['Name_ID'] = Block_groups_priority_frame['Name_ID']+\": CPs=\"+Block_groups_priority_frame['OSDS_count'].astype(str)\n",
    "Block_groups_priority_frame.set_index(\"Name_ID\", drop=True, inplace=True)\n",
    "\n",
    "# Save Full Shapefile \n",
    "Pivot_df = Block_groups_priority_frame[all_cols]\n",
    "in_polygon_blocktrack = os.path.join(\"..\", \"Projected_data/Census\", '2010_Census_Block_Groups_Clean.shp')\n",
    "OutShpPath = os.path.join(\".\", \"Outputs\", \"Census_aggregared_SHPs\", 'Final_Priority_BlockGrps_Full.shp') \n",
    "make_census_unit_SHP(Pivot_df, all_cols, OutShpPath, in_polygon_blocktrack)\n",
    "Pivot_df.to_csv(os.path.join(\".\", \"Outputs/Census_aggregared_CSVs\", 'Final_Priority_BlockGrps_Full.csv'))\n",
    "\n",
    "# Save clean Shapefile \n",
    "Pivot_df = Block_groups_priority_frame[clean_cols]\n",
    "in_polygon_blocktrack = os.path.join(\"..\", \"Projected_data/Census\", '2010_Census_Block_Groups_Clean.shp')\n",
    "OutShpPath = os.path.join(\".\", \"Outputs\", \"Census_aggregared_SHPs\", 'Final_Priority_BlockGrps_Clean.shp') \n",
    "make_census_unit_SHP(Pivot_df, clean_cols, OutShpPath, in_polygon_blocktrack)\n",
    "Pivot_df.to_csv(os.path.join(\".\", \"Outputs/Census_aggregared_CSVs\", 'Final_Priority_BlockGrps_Clean.csv'))"
   ]
  },
  {
   "cell_type": "markdown",
   "metadata": {},
   "source": [
    "### Print Shapefile, summarized by census Blocks"
   ]
  },
  {
   "cell_type": "code",
   "execution_count": 110,
   "metadata": {},
   "outputs": [],
   "source": [
    "UnitCol=['BlockBk_ID']\n",
    "# Cols for all of the below\n",
    "OutCols = ['Final_Prioity_Score', 'OSDS_count']  #  'PepPerHos', # 'Final_Prioity_Rank', \n",
    "all_cols = UnitCol + OutCols + Rank_Cols +['In_2017_CP_zone', 'Final_Cat_Ranking', 'Fin_Rank',]   # 'Final_Cat_Ranking'  comment out rank cols to just print simple shapefile\n",
    "clean_cols = UnitCol + OutCols +['In_2017_CP_zone','Final_Cat_Ranking', 'Fin_Rank']   # \n",
    "\n",
    "Blocks_priority_frame = group_by_census_unit(BASE_PRIORITY_MASTER, UnitCol, omit_less_than=10)\n",
    "\n",
    "# Save full shapefile \n",
    "Pivot_df = Blocks_priority_frame[all_cols]\n",
    "in_polygon_blocktrack = os.path.join(\"..\", \"Projected_data/Census\", '2010_Census_Blocks_Clean.shp')\n",
    "OutShpPath = os.path.join(\".\", \"Outputs\", \"Census_aggregared_SHPs\", 'Final_Priority_Blocks_Full.shp') \n",
    "make_census_unit_SHP(Pivot_df, all_cols, OutShpPath, in_polygon_blocktrack)\n",
    "Pivot_df.to_csv(os.path.join(\".\", \"Outputs/Census_aggregared_CSVs\", 'Final_Priority_Blocks_Full.csv'))\n",
    "\n",
    "# Save clean Shapefile \n",
    "Pivot_df = Blocks_priority_frame[clean_cols]\n",
    "in_polygon_blocktrack = os.path.join(\"..\", \"Projected_data/Census\", '2010_Census_Blocks_Clean.shp')\n",
    "OutShpPath = os.path.join(\".\", \"Outputs\", \"Census_aggregared_SHPs\", 'Final_Priority_Blocks_Clean.shp') \n",
    "make_census_unit_SHP(Pivot_df, clean_cols, OutShpPath, in_polygon_blocktrack)\n",
    "Pivot_df.to_csv(os.path.join(\".\", \"Outputs/Census_aggregared_CSVs\", 'Final_Priority_Blocks_Clean.csv'))"
   ]
  },
  {
   "cell_type": "markdown",
   "metadata": {},
   "source": [
    "\n",
    "\n",
    "To DO next - \n",
    "\n",
    "Identify where the breakpoint score lines are for Tracks blks and grps in the statewide model, and then rewright the code here to use those same breakpoints \n",
    "\n",
    "\n",
    "\n",
    "Tracks \n",
    "Break High   97.784082   to 100.050556  =   100.0\n",
    "Break Medium 81.427021   to 81.861728   =   81.5\n",
    "\n",
    "\n",
    "Block Groups\n",
    "Break High   103.867477 to  104.450984  =   104.0\n",
    "Break Medium 81.554107 to 81.578751     =   81.56\n",
    "\n",
    "Blocks\n",
    "Break High   92.884787 to 92.929719     =   92.9\n",
    "Break Medium 72.967675 to 73.016669     =   73.0 "
   ]
  },
  {
   "cell_type": "code",
   "execution_count": null,
   "metadata": {},
   "outputs": [],
   "source": []
  },
  {
   "cell_type": "markdown",
   "metadata": {},
   "source": [
    "## DELETE  large files >100mb from offsite repo \n",
    "- Some of the files this notebook depends on are too large to be hosted by GitHub\n",
    "- One solution is to place these files into a cloud-based repositiry, in this case I use Digital Ocean spaces, and then just download them at the beginning of the work session\n",
    "- Once the analysis is complete USE THIS CELL to remove these files from the Github Repo so any updates dont include the large files "
   ]
  },
  {
   "cell_type": "code",
   "execution_count": 111,
   "metadata": {},
   "outputs": [
    {
     "ename": "NameError",
     "evalue": "name 'LIDAR_file_urls' is not defined",
     "output_type": "error",
     "traceback": [
      "\u001b[1;31m---------------------------------------------------------------------------\u001b[0m",
      "\u001b[1;31mNameError\u001b[0m                                 Traceback (most recent call last)",
      "\u001b[1;32m<ipython-input-111-77c47ced0a76>\u001b[0m in \u001b[0;36m<module>\u001b[1;34m\u001b[0m\n\u001b[0;32m      1\u001b[0m \u001b[1;31m## Get rid of the Lidar files\u001b[0m\u001b[1;33m\u001b[0m\u001b[1;33m\u001b[0m\u001b[0m\n\u001b[1;32m----> 2\u001b[1;33m \u001b[0mdelete_downloaded_files\u001b[0m\u001b[1;33m(\u001b[0m\u001b[0mLIDAR_file_urls\u001b[0m\u001b[1;33m,\u001b[0m \u001b[0mLIDAR_local_folder\u001b[0m\u001b[1;33m)\u001b[0m\u001b[1;33m\u001b[0m\u001b[0m\n\u001b[0m",
      "\u001b[1;31mNameError\u001b[0m: name 'LIDAR_file_urls' is not defined"
     ]
    }
   ],
   "source": [
    "## Get rid of the Lidar files \n",
    "delete_downloaded_files(LIDAR_file_urls, LIDAR_local_folder)"
   ]
  },
  {
   "cell_type": "code",
   "execution_count": null,
   "metadata": {},
   "outputs": [],
   "source": []
  },
  {
   "cell_type": "code",
   "execution_count": null,
   "metadata": {},
   "outputs": [],
   "source": []
  },
  {
   "cell_type": "code",
   "execution_count": null,
   "metadata": {},
   "outputs": [],
   "source": []
  },
  {
   "cell_type": "code",
   "execution_count": null,
   "metadata": {},
   "outputs": [],
   "source": []
  }
 ],
 "metadata": {
  "kernelspec": {
   "display_name": "Python 3",
   "language": "python",
   "name": "python3"
  },
  "language_info": {
   "codemirror_mode": {
    "name": "ipython",
    "version": 3
   },
   "file_extension": ".py",
   "mimetype": "text/x-python",
   "name": "python",
   "nbconvert_exporter": "python",
   "pygments_lexer": "ipython3",
   "version": "3.6.2"
  }
 },
 "nbformat": 4,
 "nbformat_minor": 4
}
