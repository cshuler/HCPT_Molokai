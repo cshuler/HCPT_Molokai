{
 "cells": [
  {
   "cell_type": "markdown",
   "metadata": {},
   "source": [
    "# The Hawaii Cesspool Hazard Assessment & Prioritization Tool:\n",
    "# Molokai Version 3\n",
    "\n",
    "\n",
    "## ................................................ Code Notebook ................................................\n",
    "*September 2024*\n",
    "\n",
    "**Prepared For:** \n",
    "NOAA Coastal Zone Management Progam\n",
    "\n",
    "**Principal Investigator and Primary Software Developer** \n",
    "- Christopher Shuler Ph.D., Shuler Hydrologic LLC\n"
   ]
  },
  {
   "cell_type": "markdown",
   "metadata": {},
   "source": [
    "### Highlights for Version 3\n",
    "- Updated using existing methodology to include the island of Molokai\n",
    "- Using a digital ocean space cloud storage bucket to reference large files for the code, so as not to keep them in the repo\n",
    "\n",
    "\n",
    "### Methods: Input datasets\n",
    "\n",
    "#### Physical drivers and risk factors\n",
    "- These are factors that physically control the transport, attenuation, or otherwise affect the level of impact an OSDS at a given location will have on the environment and water quality\n",
    "\n",
    "- The impact of an individual OSDS depends on an array of factors regarding the substrate within which it is installed, its location and proximity to sensitive areas, the ultimate discharge point of its effluent and the conservative constituents therein, and the cumulative impacts of other nearby OSDS, which together may more quickly overwhelm the adsorption and contaminant attenuation capacity of the subsurface than an individual system would. \n",
    "- We considered all numerically or categorically quantifiable factors relating to variability in OSDS impacts, for which we were able to find statewide datasets, we call these \"Risk Factors\". \n",
    "- While some of the risk factor datasets had missing values we generally only included datasets for which we had a minimum of 90% coverage of the OSDS in the state. \n",
    "- For each risk factor we defined a scaler relationship or score between the variable and the spatial location of every individual OSDS unit which was then weighted, and averaged with the scores of all other risk factors to produce a single final prioritization ranking \n",
    "- for each individual OSDS in our state-wide inventory, we calculated a numeric value based on the relationship between the location of the OSDS unit and the spatial distribution of the risk factor so that every OSDS unit is assigned a score for every risk factor. \n",
    "\n",
    "\n",
    "#### Value- based risk factors\n",
    "While the physical factors control the level of impact, we have also included value-based factors that quantify the spatial distribution of human and environmental value within the areas calculated to be affected by the discharge of cesspool effluent through the use of groundwater flow modeling."
   ]
  },
  {
   "cell_type": "code",
   "execution_count": 7,
   "metadata": {},
   "outputs": [],
   "source": [
    "# load up dependencies and local functions\n",
    "%run functions.py\n",
    "from IPython.display import Image\n",
    "\n",
    "# relative paths\n",
    "homedir = os.getcwd()\n",
    "if not os.path.exists(os.path.join(homedir,'tempspace')): os.makedirs(os.path.join(homedir,'tempspace'))  \n",
    "tempspace = os.path.join(homedir, \"tempspace\")\n",
    "if not os.path.exists(os.path.join(\".\", 'Outputs/intermidiate_DataFrames')): os.makedirs(os.path.join(\".\", 'Outputs/intermidiate_DataFrames'))  \n",
    "intermidiate_DataFramesPath = os.path.join(\".\", 'Outputs/intermidiate_DataFrames')\n",
    "\n",
    "pd.set_option('display.max_rows', 10)"
   ]
  },
  {
   "cell_type": "code",
   "execution_count": 14,
   "metadata": {},
   "outputs": [],
   "source": [
    "# To save time, load dataframes from the pre-run analysis\n",
    "for i in os.listdir(intermidiate_DataFramesPath):\n",
    "    name = i.split(\".\")[0]\n",
    "    tempframe = pd.read_csv(os.path.join(intermidiate_DataFramesPath, i), index_col=0)\n",
    "    globals()[str(name)] = tempframe   # This is sly, use globals to define an in-memory variable \n",
    "#osds_path = os.path.join(tempspace, \"OSDS_cleaned.shp\")\n",
    "\n",
    "# This takes the directory of CSV files from intermidiate_DataFramesPath, if the code has been run yet) to dynamically\n",
    "# load each CSV into a separate global variable, where the variable name is based on the CSV file's name.\n",
    "# In essence, it's automatically loading each CSV into memory as a DataFrame and naming the variables after the CSV file names."
   ]
  },
  {
   "cell_type": "markdown",
   "metadata": {},
   "source": [
    "## Import OSDS File \n",
    "##### This creates a clean OSDS file from which all other cells will pull \n",
    "Currently using OSDS_v6 which incorporates 2020 updates from the DoH Wastewater branch (v3) IWS Database (V4) as well as the 4 counties tax records dwelling databases (V5).  This can easily be substituted as updates to the OSDS inventory are created.  This version wa run specifically for Molokai based on the Molokai V5 OSDS dataset made for Nancy "
   ]
  },
  {
   "cell_type": "code",
   "execution_count": 15,
   "metadata": {},
   "outputs": [
    {
     "name": "stdout",
     "output_type": "stream",
     "text": [
      "There are 1280 (OSDS or Cesspools) in this dataset\n"
     ]
    }
   ],
   "source": [
    "# Read in latest OSDS dataset  has to have an X and Y column in WGS 84\n",
    "\n",
    "fromshp = os.path.join(\"..\", \"Projected_data/OSDS_v6_Exploded/\", 'CESSPOOLSv6_Exploded.shp')\n",
    "OSDS = Format_OSDS_shp(fromshp, cleanitup=True)\n",
    "\n",
    "# Deal with Dupes\n",
    "checkdup = OSDS.pivot_table(index=['Uid'], aggfunc='size')\n",
    "#print(f\"there are duplicate points at: {checkdup[checkdup != 1]}\")\n",
    "# remove the duplicates (keep first entry of the duplicate row)\n",
    "OSDS.drop_duplicates(subset=['Uid'], keep=\"first\", inplace=True)\n",
    "# Reindex or else the future joins will be based on an index with dupes\n",
    "OSDS.reset_index(drop=True, inplace=True)\n",
    "\n",
    "# Save csv\n",
    "OSDS.to_csv(os.path.join(intermidiate_DataFramesPath, \"OSDS.csv\"))\n",
    "\n",
    "# Convert the now formatted OSDS csv back to a shapefile for the subsequent analyses\n",
    "csvFilePath = os.path.join(intermidiate_DataFramesPath, \"OSDS.csv\")\n",
    "convert_OSDS_csv_to_shp(csvFilePath)\n",
    "\n",
    "# Define the cleaned up OSDS file all the other cells can use\n",
    "osds_path = os.path.join(tempspace, \"OSDS_cleaned.shp\")\n",
    "print(\"There are {} (OSDS or Cesspools) in this dataset\".format(len(OSDS)))"
   ]
  },
  {
   "cell_type": "markdown",
   "metadata": {},
   "source": [
    "## Distance to Municipal or domestic wells \n"
   ]
  },
  {
   "cell_type": "code",
   "execution_count": 16,
   "metadata": {},
   "outputs": [
    {
     "name": "stdout",
     "output_type": "stream",
     "text": [
      "Average dist2_MunWells_m is 6136.877258811058\n",
      "Max dist2_MunWells_m is 27573.79162605669\n",
      "Min dist2_MunWells_m is 109.26694837034235\n"
     ]
    },
    {
     "data": {
      "image/png": "[encoded data removed]",
      "text/plain": [
       "<matplotlib.figure.Figure at 0x13575e7bdd8>"
      ]
     },
     "metadata": {
      "needs_background": "light"
     },
     "output_type": "display_data"
    }
   ],
   "source": [
    "# Generate parameter info about the Municipal wells MODERATE RUN TIME\n",
    "shp_path = os.path.join(\"..\", \"Projected_data/Wells\", 'CWRM_Wells_MUN_prj.shp')\n",
    "new_col_name = \"dist2_MunWells_m\"\n",
    "# Run the near analysis \n",
    "MUN_WELLS = Calc_dist_to_variable(osds_path, shp_path, new_col_name)\n",
    "MUN_WELLS.to_csv(os.path.join(intermidiate_DataFramesPath, \"MUN_WELLS.csv\"))\n",
    "# plot histogram\n",
    "Hist_and_stats_on_DF(MUN_WELLS, \"dist2_MunWells_m\")"
   ]
  },
  {
   "cell_type": "code",
   "execution_count": 17,
   "metadata": {},
   "outputs": [
    {
     "name": "stdout",
     "output_type": "stream",
     "text": [
      "Average dist2_DomWells_m is 11132.087318388018\n",
      "Max dist2_DomWells_m is 36562.96007228427\n",
      "Min dist2_DomWells_m is 32.432537633769925\n"
     ]
    },
    {
     "data": {
      "image/png": "[encoded data removed]",
      "text/plain": [
       "<matplotlib.figure.Figure at 0x13507eb2208>"
      ]
     },
     "metadata": {
      "needs_background": "light"
     },
     "output_type": "display_data"
    }
   ],
   "source": [
    "# Generate paramater info about the Domestic wells MODERATE RUN TIME\n",
    "shp_path = os.path.join(\"..\", \"Projected_data/Wells\", 'CWRM_Wells_DOM_prj.shp')\n",
    "new_col_name = \"dist2_DomWells_m\"\n",
    "# Run the near analysis \n",
    "DOM_WELLS = Calc_dist_to_variable(osds_path, shp_path, new_col_name)\n",
    "DOM_WELLS.to_csv(os.path.join(intermidiate_DataFramesPath, \"DOM_WELLS.csv\"))\n",
    "# plot histogram\n",
    "Hist_and_stats_on_DF(DOM_WELLS, \"dist2_DomWells_m\")"
   ]
  },
  {
   "cell_type": "markdown",
   "metadata": {},
   "source": [
    "## Well capture zones\n"
   ]
  },
  {
   "cell_type": "code",
   "execution_count": 20,
   "metadata": {},
   "outputs": [
    {
     "name": "stdout",
     "output_type": "stream",
     "text": [
      "number of affected points = 3\n",
      "number of total systems = 1280\n",
      "percent of systems affected = 0.00234375\n"
     ]
    }
   ],
   "source": [
    "In_polygons = os.path.join(\"..\", \"Projected_data/Well_CZs\", 'ZoneB_Composite_Molokai.shp')\n",
    "new_col_name = 'In_WellCZ_B'\n",
    "In_points = osds_path\n",
    "\n",
    "WellCZ_B_yes = Find_points_inside_polys(In_points, In_polygons, new_col_name)\n",
    "WellCZ_B_yes.to_csv(os.path.join(intermidiate_DataFramesPath, \"WellCZ_B_yes.csv\"))\n",
    "\n",
    "print_stats_on_bool_layers(WellCZ_B_yes)"
   ]
  },
  {
   "cell_type": "code",
   "execution_count": 21,
   "metadata": {},
   "outputs": [
    {
     "name": "stdout",
     "output_type": "stream",
     "text": [
      "number of affected points = 36\n",
      "number of total systems = 1280\n",
      "percent of systems affected = 0.028125\n"
     ]
    }
   ],
   "source": [
    "In_polygons = os.path.join(\"..\", \"Projected_data/Well_CZs\", 'ZoneC_Composite_Molokai.shp')\n",
    "new_col_name = 'In_WellCZ_C'\n",
    "In_points = osds_path\n",
    "\n",
    "WellCZ_C_yes = Find_points_inside_polys(In_points, In_polygons, new_col_name)\n",
    "WellCZ_C_yes.to_csv(os.path.join(intermidiate_DataFramesPath, \"WellCZ_C_yes.csv\"))\n",
    "\n",
    "print_stats_on_bool_layers(WellCZ_C_yes)"
   ]
  },
  {
   "cell_type": "markdown",
   "metadata": {},
   "source": [
    "## Distance to streams\n"
   ]
  },
  {
   "cell_type": "code",
   "execution_count": 22,
   "metadata": {},
   "outputs": [
    {
     "name": "stdout",
     "output_type": "stream",
     "text": [
      "Average dist2_Streams_m is 269.36113061910834\n",
      "Max dist2_Streams_m is 1148.203488529939\n",
      "Min dist2_Streams_m is 0.175227375914354\n"
     ]
    },
    {
     "data": {
      "image/png": "[encoded data removed]",
      "text/plain": [
       "<matplotlib.figure.Figure at 0x1350518a048>"
      ]
     },
     "metadata": {
      "needs_background": "light"
     },
     "output_type": "display_data"
    }
   ],
   "source": [
    "# Generate parameter info about the Municipal wells MODERATE RUN TIME\n",
    "shp_path = os.path.join(\"..\", \"Projected_data/Streams\", 'Streams_prj.shp')\n",
    "new_col_name = \"dist2_Streams_m\"\n",
    "# Run the near analysis \n",
    "STREAMS = Calc_dist_to_variable(osds_path, shp_path, new_col_name)\n",
    "STREAMS.to_csv(os.path.join(intermidiate_DataFramesPath, \"STREAMS.csv\"))\n",
    "# plot histogram\n",
    "Hist_and_stats_on_DF(STREAMS, \"dist2_Streams_m\")"
   ]
  },
  {
   "cell_type": "markdown",
   "metadata": {},
   "source": [
    "## Distance to Wetlands\n"
   ]
  },
  {
   "cell_type": "code",
   "execution_count": 23,
   "metadata": {},
   "outputs": [
    {
     "name": "stdout",
     "output_type": "stream",
     "text": [
      "Average dist2_Wetlands_m is 1665.5024292484202\n",
      "Max dist2_Wetlands_m is 8630.798943424586\n",
      "Min dist2_Wetlands_m is 11.248930451902707\n"
     ]
    },
    {
     "data": {
      "image/png": "[encoded data removed]",
      "text/plain": [
       "<matplotlib.figure.Figure at 0x1350592be10>"
      ]
     },
     "metadata": {
      "needs_background": "light"
     },
     "output_type": "display_data"
    }
   ],
   "source": [
    "# Generate parameter info about the wetlands\n",
    "shp_path = os.path.join(\"..\", \"Projected_data/Wetlands\", 'Wetlands_emergent_ponds.shp')\n",
    "new_col_name = \"dist2_Wetlands_m\"\n",
    "# Run the near analysis \n",
    "WETLANDS = Calc_dist_to_variable(osds_path, shp_path, new_col_name)\n",
    "WETLANDS.to_csv(os.path.join(intermidiate_DataFramesPath, \"WETLANDS.csv\"))\n",
    "# plot histogram\n",
    "Hist_and_stats_on_DF(WETLANDS, \"dist2_Wetlands_m\")"
   ]
  },
  {
   "cell_type": "markdown",
   "metadata": {},
   "source": [
    "## Distance to the coastline\n"
   ]
  },
  {
   "cell_type": "code",
   "execution_count": 24,
   "metadata": {},
   "outputs": [
    {
     "name": "stdout",
     "output_type": "stream",
     "text": [
      "Average dist2_coast_m is 1015.4681208726258\n",
      "Max dist2_coast_m is 5113.371334908346\n",
      "Min dist2_coast_m is 2.692405061562155\n"
     ]
    },
    {
     "data": {
      "image/png": "[encoded data removed]",
      "text/plain": [
       "<matplotlib.figure.Figure at 0x13507edd438>"
      ]
     },
     "metadata": {
      "needs_background": "light"
     },
     "output_type": "display_data"
    }
   ],
   "source": [
    "# Generate parameter info about the COASTLINE   looong RUN TIME \n",
    "shp_path = os.path.join(\"..\", \"Projected_data/Coastline\", 'Coastline_line_prj.shp')\n",
    "new_col_name = \"dist2_coast_m\"\n",
    "# Run the near analysis \n",
    "COASTLINE = Calc_dist_to_variable(osds_path, shp_path, new_col_name)\n",
    "COASTLINE.to_csv(os.path.join(intermidiate_DataFramesPath, \"COASTLINE.csv\"))\n",
    "# plot histogram\n",
    "Hist_and_stats_on_DF(COASTLINE, \"dist2_coast_m\")"
   ]
  },
  {
   "cell_type": "markdown",
   "metadata": {},
   "source": [
    "## Extracting values from Rainfall raster \n"
   ]
  },
  {
   "cell_type": "code",
   "execution_count": 25,
   "metadata": {},
   "outputs": [
    {
     "name": "stdout",
     "output_type": "stream",
     "text": [
      "Average rainfall_in is 27.45175240486723\n",
      "Max rainfall_in is 101.38800048799999\n",
      "Min rainfall_in is 9.66359329224\n"
     ]
    },
    {
     "data": {
      "image/png": "[encoded data removed]",
      "text/plain": [
       "<matplotlib.figure.Figure at 0x13507ec0c50>"
      ]
     },
     "metadata": {
      "needs_background": "light"
     },
     "output_type": "display_data"
    }
   ],
   "source": [
    "In_raster = os.path.join(\"..\", \"Projected_data/Rain\", 'Rain_inann.tif')\n",
    "In_points = osds_path\n",
    "new_col_name = \"rainfall_in\"\n",
    "\n",
    "RAINFALL = extract_values_from_rasters(In_raster, In_points, new_col_name, tempspace)\n",
    "RAINFALL.to_csv(os.path.join(intermidiate_DataFramesPath, \"RAINFALL.csv\"))\n",
    "# plot histogram\n",
    "Hist_and_stats_on_DF(RAINFALL, \"rainfall_in\")"
   ]
  },
  {
   "cell_type": "markdown",
   "metadata": {},
   "source": [
    "## Soils \n"
   ]
  },
  {
   "cell_type": "code",
   "execution_count": 26,
   "metadata": {},
   "outputs": [],
   "source": [
    "# Pull in soils data from NRCS\n",
    "In_polygons = os.path.join(\"..\", \"Projected_data/Soils\", 'HIstate_nrcs_join2.shp')\n",
    "new_col_name = 'Soil_Ksat_2ndry'\n",
    "In_points = osds_path\n",
    "\n",
    "# Columns you want from the shapefile (Uid should always  be first one) \n",
    "want_cols = ['Uid', 'brockdepmin', 'flodfreqdcd', 'engstafdcd', 'engstafll', \n",
    "             'engstafml', 'cokey', 'ksat_h', 'ksat_l', 'ksat_r', 'sieveno10_r', ]  # 'totalsub_r', slopegradw\n",
    "\n",
    "renames = {'brockdepmi':'nrcs_DtoBrock', \n",
    " 'flodfreqdc':'nrcs_FloodFreq',\n",
    " 'engstafdcd':'nrcs_septic_dominant', \n",
    " 'engstafll':'nrcs_septic_least', \n",
    " 'engstafml':'nrcs_septic_most', \n",
    " 'ksat_h':'nrcs_ksat_hi',  \n",
    " 'ksat_l':'nrcs_ksat_lo',\n",
    " 'ksat_r':'nrcs_ksat_rep', \n",
    " 'sieveno10_':'nrcs_rockFrag3in'}    # 'slopegradw':'nrcs_slope', 'totalsub_r':'nrcs_subsidence'\n",
    "\n",
    "# Do the spatial join\n",
    "arcpy.SpatialJoin_analysis(In_points, In_polygons, os.path.join(tempspace, \"test_join_pt_2_poly.shp\"))\n",
    "\n",
    "# read data from shapefile \n",
    "extracted_points_path = os.path.join(tempspace, \"test_join_pt_2_poly.shp\")\n",
    "arcpy.TableToTable_conversion(extracted_points_path, tempspace, 'extracted_all.csv') # Create a rational file format\n",
    "# Create a rational PanDataframe\n",
    "Extracted_All = pd.read_csv(os.path.join(tempspace, 'extracted_all.csv'))\n",
    "\n",
    "want_cols = ['Uid', 'brockdepmi', 'flodfreqdc', 'engstafdcd', 'engstafll', \n",
    "             'engstafml', 'ksat_h', 'ksat_l', 'ksat_r', 'sieveno10_'] # 'slopegradw' , 'totalsub_r'\n",
    "Extract_frame = Extracted_All[want_cols]\n",
    "\n",
    "Extract_frame = Extract_frame.replace('NoData', np.nan)  # clean up from arc's trashiness\n",
    "\n",
    "numcols = ['brockdepmi', 'ksat_h', 'ksat_l', 'ksat_r', 'sieveno10_' ]  #'slopegradw',  'totalsub_r'\n",
    "Extract_frame[numcols] = Extract_frame[numcols].apply(pd.to_numeric, errors='coerce', axis=1)\n",
    "\n",
    "Extract_frame.rename(columns=renames, inplace=True)     # Rename to col that you want\n",
    "\n",
    "SOILS_NRCS = Extract_frame.copy()\n",
    "\n",
    "\n",
    "#### Filling in missing NRCS flood frequency data with rainfall and ksat\n",
    "SOILS_NRCS = SOILS_NRCS.merge(RAINFALL, on=\"Uid\", how='left')\n",
    "\n",
    "# Set frequents \n",
    "SOILS_NRCS['nrcs_FloodFreq'][(SOILS_NRCS['nrcs_FloodFreq'].isnull()) & (SOILS_NRCS['nrcs_ksat_rep'] < 1.1) & (SOILS_NRCS['rainfall_in'] > 135)]  = \"Frequent\"    # \"Frequent\"      \n",
    "SOILS_NRCS['nrcs_FloodFreq'][(SOILS_NRCS['nrcs_FloodFreq'].isnull()) & (SOILS_NRCS['nrcs_ksat_rep'] < 1.1) & (SOILS_NRCS['rainfall_in'] < 15)]  = \"Frequent\"    # \"Frequent\"      \n",
    "\n",
    "# Set Occasionals \n",
    "SOILS_NRCS['nrcs_FloodFreq'][(SOILS_NRCS['nrcs_FloodFreq'].isnull()) & (SOILS_NRCS['rainfall_in'] > 135)]  = \"Occasional\"    # \"Occasional\"      \n",
    "SOILS_NRCS['nrcs_FloodFreq'][(SOILS_NRCS['nrcs_FloodFreq'].isnull()) & (SOILS_NRCS['nrcs_ksat_rep'] < 1.1)]  = \"Occasional\"    # \"Occasional\"      \n",
    "\n",
    "# set rest to none\n",
    "SOILS_NRCS['nrcs_FloodFreq'][(SOILS_NRCS['nrcs_FloodFreq'].isnull())]  = \"None\"    # \"None\"      \n",
    "\n",
    "del SOILS_NRCS['rainfall_in']\n",
    "\n",
    "SOILS_NRCS.to_csv(os.path.join(intermidiate_DataFramesPath, \"SOILS_NRCS.csv\"))"
   ]
  },
  {
   "cell_type": "markdown",
   "metadata": {},
   "source": [
    "## Slope\n"
   ]
  },
  {
   "cell_type": "code",
   "execution_count": 28,
   "metadata": {},
   "outputs": [
    {
     "name": "stdout",
     "output_type": "stream",
     "text": [
      "Average slope_deg is 3.875517410423101\n",
      "Max slope_deg is 45.6593894958\n",
      "Min slope_deg is 0.0\n"
     ]
    },
    {
     "data": {
      "image/png": "[encoded data removed]",
      "text/plain": [
       "<matplotlib.figure.Figure at 0x13507bee4a8>"
      ]
     },
     "metadata": {
      "needs_background": "light"
     },
     "output_type": "display_data"
    }
   ],
   "source": [
    "blankframe = pd.DataFrame(columns=[\"Uid\"])\n",
    "\n",
    "indir = os.path.join(\"..\", \"Projected_data\\\\DEMs\\\\Slope_WGS\")  # Using a loop to go over different rasters from different islands\n",
    "for idx, file in enumerate(os.listdir(indir)):\n",
    "    if file.endswith(\".tif\"):\n",
    "        In_raster = os.path.join(indir, file)\n",
    "        In_points = osds_path\n",
    "        new_col_name = \"slope_{}\".format(idx)       \n",
    "        foo = extract_values_from_rasters(In_raster, In_points, new_col_name, tempspace)\n",
    "        blankframe = blankframe.merge(foo, how='outer', on='Uid')\n",
    "\n",
    "blankframe.set_index(\"Uid\", inplace=True)\n",
    "blankframe['slope_deg'] = blankframe.max(axis=1)  \n",
    "blankframe.reset_index(inplace=True)\n",
    "\n",
    "SLOPE = blankframe[[\"Uid\", 'slope_deg']]\n",
    "SLOPE.to_csv(os.path.join(intermidiate_DataFramesPath, \"SLOPE.csv\"))\n",
    "# plot histogram\n",
    "Hist_and_stats_on_DF(SLOPE, \"slope_deg\")"
   ]
  },
  {
   "cell_type": "code",
   "execution_count": null,
   "metadata": {},
   "outputs": [],
   "source": []
  }
 ],
 "metadata": {
  "kernelspec": {
   "display_name": "Python 3",
   "language": "python",
   "name": "python3"
  },
  "language_info": {
   "codemirror_mode": {
    "name": "ipython",
    "version": 3
   },
   "file_extension": ".py",
   "mimetype": "text/x-python",
   "name": "python",
   "nbconvert_exporter": "python",
   "pygments_lexer": "ipython3",
   "version": "3.6.2"
  }
 },
 "nbformat": 4,
 "nbformat_minor": 4
}
