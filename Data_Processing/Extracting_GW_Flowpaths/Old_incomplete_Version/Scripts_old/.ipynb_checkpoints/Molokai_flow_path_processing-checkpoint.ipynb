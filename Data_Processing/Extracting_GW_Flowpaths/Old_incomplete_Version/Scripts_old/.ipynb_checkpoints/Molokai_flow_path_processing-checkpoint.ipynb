{
 "cells": [
  {
   "cell_type": "code",
   "execution_count": 1,
   "metadata": {
    "collapsed": true
   },
   "outputs": [],
   "source": [
    "import os\n",
    "import pandas as pd\n",
    "import numpy as np\n",
    "\n",
    "import arcpy\n",
    "arcpy.env.overwriteOutput = True \n",
    "from arcpy.sa import *\n",
    "from arcpy import env\n",
    "import matplotlib.pyplot as plt\n",
    "\n",
    "pd.set_option('display.max_rows', 10)\n",
    "\n",
    "if not os.path.exists(os.path.join(\"..\", \"workspace_shp\", 'workspace')): os.makedirs(os.path.join(\"..\", \"workspace_shp\", 'workspace'))  \n",
    "workspace = os.path.join(\"..\", \"workspace_shp\", 'workspace')\n",
    "\n",
    "if not os.path.exists(os.path.join(workspace,'tempspace')): os.makedirs(os.path.join(workspace,'tempspace'))  \n",
    "tempspace = os.path.join(workspace, \"tempspace\")"
   ]
  },
  {
   "cell_type": "code",
   "execution_count": 2,
   "metadata": {
    "collapsed": true
   },
   "outputs": [],
   "source": [
    "# clean grid file    \n",
    "\n",
    "# first make a copy\n",
    "fromshp = os.path.join(\"..\", 'GMS_Export', \"Molokai_Exported_Grid.shp\")\n",
    "toshp   = os.path.join(workspace, \"Mokai_grid_cleaned.shp\")\n",
    "arcpy.CopyFeatures_management(fromshp, toshp)\n",
    "\n",
    "# delete any cells with z>1\n",
    "qFlt = \"K > 1\"\n",
    "with arcpy.da.UpdateCursor(toshp, [\"K\"], where_clause=qFlt) as uCur:\n",
    "    for dRow in uCur:\n",
    "        uCur.deleteRow ()\n",
    "del uCur   # Release lock \n",
    "\n",
    "arcpy.management.AddField(toshp, \"Grid_ID\", \"TEXT\")\n",
    "arcpy.CalculateField_management(toshp, \"Grid_ID\", \n",
    "                                'str(!I!) +\"_\"+ str(!J!) ', \"PYTHON3\")\n",
    "\n",
    "# remove extranious fields\n",
    "fcList = [field.name for field in arcpy.ListFields(toshp)]   # list fields\n",
    "# This is the list of fields you want to retain\n",
    "fcList.remove('Grid_ID'); fcList.remove('FID'); fcList.remove('Shape') #pop off keepers\n",
    "for field in fcList:\n",
    "        arcpy.DeleteField_management(toshp, fcList)  # delete extranious fields"
   ]
  },
  {
   "cell_type": "code",
   "execution_count": 3,
   "metadata": {},
   "outputs": [
    {
     "data": {
      "text/plain": [
       "<Result '..\\\\workspace_shp\\\\workspace\\\\tempspace\\\\Mokai_OSDS_wGridCells_tmp.shp'>"
      ]
     },
     "execution_count": 3,
     "metadata": {},
     "output_type": "execute_result"
    }
   ],
   "source": [
    "# Join every OSDS dot to a grid cell index\n",
    "# Note will not overwright, will just creat multiple files with _# appended can mess you up\n",
    "\n",
    "# first make a copy\n",
    "fromshp = os.path.join(\"..\",\"..\", \"Projected_Data/OSDS_v5\", 'OSDS_v5DwellDat_moKai.shp')\n",
    "target_features   = os.path.join(workspace, \"Mokai_OSDS_cleaned.shp\")\n",
    "arcpy.CopyFeatures_management(fromshp, target_features)\n",
    "\n",
    "arcpy.management.AddField(target_features, \"Uid\", \"TEXT\")\n",
    "arcpy.CalculateField_management(target_features, \"Uid\", \n",
    "                                'str(!X!)[0:10]+\"_\"+str(!Y!)[0:8]', \"PYTHON3\")\n",
    "\n",
    "# remove extranious fields\n",
    "fcList = [field.name for field in arcpy.ListFields(target_features)]   # list fields\n",
    "# This is the list of fields you want to retain\n",
    "fcList.remove('Uid'); fcList.remove('FID'); fcList.remove('Shape') #pop off keepers\n",
    "fcList.remove('TMK'); fcList.remove('X'); fcList.remove('Y'); fcList.remove('EFFLUENT');\n",
    "for field in fcList:\n",
    "        arcpy.DeleteField_management(target_features, fcList)  # delete extranious fields\n",
    "\n",
    "\n",
    "join_features =   os.path.join(workspace, \"Mokai_grid_cleaned.shp\")\n",
    "out_features =    os.path.join(tempspace, 'Mokai_OSDS_wGridCells_tmp.shp')\n",
    "\n",
    "arcpy.SpatialJoin_analysis(target_features, join_features, out_features, match_option=\"INTERSECT\")"
   ]
  },
  {
   "cell_type": "code",
   "execution_count": 5,
   "metadata": {},
   "outputs": [
    {
     "data": {
      "text/plain": [
       "<Result '..\\\\workspace_shp\\\\workspace'>"
      ]
     },
     "execution_count": 5,
     "metadata": {},
     "output_type": "execute_result"
    }
   ],
   "source": [
    "# This whole block just to remove dupes better in pandas than in arcpy\n",
    "# read in shapefile \n",
    "paths_path = os.path.join(tempspace, 'Mokai_OSDS_wGridCells_tmp.shp')\n",
    "columns_nams = [field.name for field in arcpy.ListFields(paths_path)]\n",
    "columns_nams.pop(1)  # remove stupid shape col\n",
    "temparr = arcpy.da.FeatureClassToNumPyArray(paths_path, columns_nams)\n",
    "OSDS =  pd.DataFrame(temparr)\n",
    "\n",
    "# Do the operation \n",
    "# remove the duplicates (keep first entry of the duplicate row)\n",
    "OSDS.drop_duplicates(subset=['Uid'], keep=\"first\", inplace=True)\n",
    "\n",
    "# Convert CSV to shapefile of the OSDS points with the Flikr \n",
    "OSDS.to_csv(os.path.join(tempspace, 'EsriIsTrash0.csv'))\n",
    "XFieldName = 'X'\n",
    "YFieldName = 'Y'\n",
    "spatialRef = arcpy.SpatialReference(4326)\n",
    "csvFilePath = os.path.join(tempspace, 'EsriIsTrash0.csv')\n",
    "shpFilePath = os.path.join(workspace)\n",
    "\n",
    "arcpy.MakeXYEventLayer_management(csvFilePath, XFieldName, YFieldName, 'Mokai_OSDS_wGridCells', spatial_reference=spatialRef)\n",
    "arcpy.FeatureClassToShapefile_conversion('Mokai_OSDS_wGridCells', shpFilePath)"
   ]
  },
  {
   "cell_type": "markdown",
   "metadata": {},
   "source": [
    "###  Next steps in Arc Map\n",
    "from Origianl directions: \n",
    "Wrangling the OSDS points join can be done externally in arc\n",
    "Once the grid is in arc, do a spatial select on the OSDS points and grid cells, exporte the grid cells with OSDS as a separate shapefile, then convert centerpoints to points. Then use this to import into GMS as opposed to the whole OSDS dataset\n",
    "\n",
    "Actual steps: \n",
    "- 1) Opned Mokai_OSDS_wGridCells.shp and Mokai_grid_cleaned.shp in arc\n",
    "- 2) Selected the relevame grid cells by intersection with the points \n",
    "- 3) Exported Mokai_grid_cleaned to Mokai_grid_cleaned_OSDS_Intersect.shp to the Manually_Created folder in workspace.shp\n",
    "- 4) Used Feature to point tool to make the polygon centers points as Mokai_grid_OSDS_centers.shp"
   ]
  },
  {
   "cell_type": "markdown",
   "metadata": {},
   "source": [
    "### Next steps in GMS\n",
    "\n",
    "- 1) Opened up the running molokai model where pumprates have been set to 0 already. (Saved as ...Adding_Osds.gpr)\n",
    "- 2) Created a new coverage in the tree alongsite the other coverages called OSDS_center_dots (no sources or properties values set) \n",
    "- 3) Used Open button in GMS to add Mokai_grid_OSDS_centers.shp to the project\n",
    "- 4) Then convert Mokai_grid_OSDS_centers to feature objects insuring OSDS_center_dots coverage is highlighted (no field mapping needed)\n",
    "- 5) Now highlighting the OSDS_center_dots coverage ctrl-a to select all the points then r-click on one of the selected points and choose select intersecting objects to select all the intersecting cells\n",
    "- 6) in Modpath menu on top, create particles (just one) at selected cells. click OK and flowpaths should appear ((note If particles go up, select particle set in explorer and right click, then in attributes select forward directon or back?)  \n",
    "- 7) then export particle pathline shapefile (from particle set in the explorer bar)  for the arcs into the GMS_Exports folder named Molokai_pathlines.shp\n",
    "8) # TO get start points: in GMS after exporting the flowpats, r-click particle set in explorer and select the starting locations to 3d scatter points option, this will create a 3d scatter data set with particle set as its name. \n",
    "9) then click on the 3d scatter points and export as a point shapefile names Molokai_pathlines_starts"
   ]
  },
  {
   "cell_type": "markdown",
   "metadata": {},
   "source": [
    "### Next steps in Arc Map \n",
    "- 1) Open up Molokai_pathlines.shp \n",
    "- 2) in arc use the 'add geometry' tool and check the 'line_start_mid_end' box (use WGS84 coord system)\n",
    "- 3) Copy all features in attribute table and paste into excel,\n",
    "- 4) pull out end_x and end_y column and point ID,  save as Molokai_pathline_end_pts.csv\n",
    "- 5) 3: pull csv back into arc, and export data as a shapefile \n"
   ]
  },
  {
   "cell_type": "markdown",
   "metadata": {},
   "source": [
    "### Now come back into Juputer"
   ]
  },
  {
   "cell_type": "code",
   "execution_count": 6,
   "metadata": {
    "collapsed": true
   },
   "outputs": [],
   "source": [
    "# process paths starts\n",
    "\n",
    "# first make a copy\n",
    "fromshp = os.path.join(\"..\", 'GMS_Export', \"Molokai_pathlines_starts.shp\")\n",
    "toshp   = os.path.join(workspace, \"Mokai_pathline_starts.shp\")\n",
    "arcpy.CopyFeatures_management(fromshp, toshp)\n",
    "\n",
    "arcpy.management.AddField(toshp, \"Starts_ID\", \"TEXT\")\n",
    "arcpy.CalculateField_management(toshp, \"Starts_ID\", \n",
    "                                '\"starts_\" + str(!FID!) ', \"PYTHON3\")\n",
    "# remove extranious fields\n",
    "fcList = [field.name for field in arcpy.ListFields(toshp)]   # list fields\n",
    "# This is the list of fields you want to retain\n",
    "fcList.remove('Starts_ID'); fcList.remove('FID'); fcList.remove('Shape') #pop off keepers\n",
    "for field in fcList:\n",
    "        arcpy.DeleteField_management(toshp, fcList)  # delete extranious fields"
   ]
  },
  {
   "cell_type": "code",
   "execution_count": 7,
   "metadata": {
    "collapsed": true
   },
   "outputs": [],
   "source": [
    "# process paths ends\n",
    "# first make a copy\n",
    "fromshp = os.path.join(\"..\", 'GMS_Export', \"Molokai_pathlines_ends.shp\")\n",
    "toshp   = os.path.join(workspace, \"Mokai_pathline_ends.shp\")\n",
    "arcpy.CopyFeatures_management(fromshp, toshp)\n",
    "\n",
    "arcpy.management.AddField(toshp, \"Ends_ID\", \"TEXT\")\n",
    "arcpy.CalculateField_management(toshp, \"Ends_ID\", \n",
    "                                '\"ends_\" + str(!FID!) ', \"PYTHON3\")\n",
    "# remove extranious fields\n",
    "fcList = [field.name for field in arcpy.ListFields(toshp)]   # list fields\n",
    "# This is the list of fields you want to retain\n",
    "fcList.remove('Ends_ID'); fcList.remove('FID'); fcList.remove('Shape') #pop off keepers\n",
    "for field in fcList:\n",
    "        arcpy.DeleteField_management(toshp, fcList)  # delete extranious fields"
   ]
  },
  {
   "cell_type": "code",
   "execution_count": 8,
   "metadata": {
    "collapsed": true
   },
   "outputs": [],
   "source": [
    "# process paths lines\n",
    "# first make a copy\n",
    "fromshp = os.path.join(\"..\", 'GMS_Export', \"Molokai_pathlines.shp\")\n",
    "toshp   = os.path.join(workspace, \"Mokai_pathlines.shp\")\n",
    "arcpy.CopyFeatures_management(fromshp, toshp)\n",
    "\n",
    "arcpy.management.AddField(toshp, \"Path_ID\", \"TEXT\")\n",
    "arcpy.CalculateField_management(toshp, \"Path_ID\", \n",
    "                                '\"path_\" + str(!FID!) ', \"PYTHON3\")\n",
    "# remove extranious fields\n",
    "fcList = [field.name for field in arcpy.ListFields(toshp)]   # list fields\n",
    "# This is the list of fields you want to retain\n",
    "fcList.remove('Path_ID'); fcList.remove('FID'); fcList.remove('Shape') #pop off keepers\n",
    "for field in fcList:\n",
    "        arcpy.DeleteField_management(toshp, fcList)  # delete extranious fields"
   ]
  },
  {
   "cell_type": "code",
   "execution_count": 9,
   "metadata": {},
   "outputs": [
    {
     "data": {
      "text/plain": [
       "<Result '..\\\\workspace_shp\\\\workspace\\\\tempspace\\\\starts_wGridCells_wPaths_wEnds_wFlikr_cells.shp'>"
      ]
     },
     "execution_count": 9,
     "metadata": {},
     "output_type": "execute_result"
    }
   ],
   "source": [
    "# Do all the joins  \n",
    "\n",
    "# Every start point has a corresponding grid cell\n",
    "target_features = os.path.join(workspace, \"Mokai_pathline_starts.shp\")\n",
    "join_features =   os.path.join(workspace, \"Mokai_grid_cleaned.shp\")\n",
    "out_features =    os.path.join(tempspace, 'starts_wGridCells.shp')\n",
    "\n",
    "arcpy.SpatialJoin_analysis(target_features, join_features, out_features, match_option=\"INTERSECT\")\n",
    "\n",
    "\n",
    "# Every end point needs a ending flikr cell \n",
    "target_features = os.path.join(workspace, \"Mokai_pathline_ends.shp\")\n",
    "join_features = os.path.join(\"..\", \"workspace_shp\", \"Flikr_MoKai_250_cells_wMidpoints.shp\")    ###### changed midpoints \n",
    "out_features =    os.path.join(tempspace, 'Ends_wFlikr_cells.shp')\n",
    "\n",
    "arcpy.SpatialJoin_analysis(target_features, join_features, out_features, match_option=\"CLOSEST\")\n",
    "\n",
    "\n",
    "# Every path has a corresponding end point Connect the paths to the path ends\n",
    "target_features =    os.path.join(workspace, \"Mokai_pathlines.shp\")\n",
    "join_features =     os.path.join(tempspace, 'Ends_wFlikr_cells.shp')  \n",
    "out_features =      os.path.join(tempspace, 'Paths_wEnds_wFlikr_cells.shp')\n",
    "# for some reason the end points are not perfectly matched, they are centimeters off\n",
    "arcpy.SpatialJoin_analysis(target_features, join_features, out_features, match_option=\"INTERSECT\", search_radius=1) \n",
    "\n",
    "\n",
    "# Connect the starts to the path/ends\n",
    "target_features = os.path.join(tempspace, 'starts_wGridCells.shp')\n",
    "join_features =   os.path.join(tempspace, 'Paths_wEnds_wFlikr_cells.shp')\n",
    "out_features =    os.path.join(tempspace, 'starts_wGridCells_wPaths_wEnds_wFlikr_cells.shp')\n",
    "\n",
    "arcpy.SpatialJoin_analysis(target_features, join_features, out_features, match_option=\"INTERSECT\")"
   ]
  },
  {
   "cell_type": "code",
   "execution_count": 11,
   "metadata": {},
   "outputs": [
    {
     "name": "stdout",
     "output_type": "stream",
     "text": [
      "There are 0 missing start points\n"
     ]
    },
    {
     "data": {
      "text/plain": [
       "<Result '..\\\\workspace_shp\\\\workspace\\\\tempspace\\\\starts_wGridCells_wPaths_wEnds_wFlikr_cells.shp'>"
      ]
     },
     "execution_count": 11,
     "metadata": {},
     "output_type": "execute_result"
    }
   ],
   "source": [
    "# deal with Any outliers where there is no path (coastal start cells)  Seems to be none for Molokai???\n",
    "\n",
    "in_features =    os.path.join(tempspace, 'starts_wGridCells_wPaths_wEnds_wFlikr_cells.shp')\n",
    "arcpy.MakeFeatureLayer_management (in_features, \"ESRI_is_lame\")\n",
    "\n",
    "#Create stupid separate layer for just the outliers\n",
    "query = \"Path_ID = ''\"    # Where path ID is null\n",
    "arcpy.SelectLayerByAttribute_management('ESRI_is_lame', \"NEW_SELECTION\", query)\n",
    "arcpy.CopyFeatures_management('ESRI_is_lame', os.path.join(tempspace, \"ESRI_is_idiotic.shp\"))\n",
    "\n",
    "# Print out number of missing starts \n",
    "print(\"There are {} missing start points\".format(int(arcpy.GetCount_management('ESRI_is_lame').getOutput(0))))\n",
    "\n",
    "# Do the spatial join to Flikr cells\n",
    "target_features = os.path.join(tempspace, \"ESRI_is_idiotic.shp\")\n",
    "join_features = os.path.join(\"..\", \"workspace_shp\", \"Flikr_MoKai_250_cells_wMidpoints.shp\")\n",
    "out_features =    os.path.join(tempspace, 'OutlierStarts_wFlikr_cells.shp')\n",
    "arcpy.SpatialJoin_analysis(target_features, join_features, out_features, match_option=\"CLOSEST\")\n",
    "\n",
    "# Clean up the fields in the outlier shp(205 outliers) to only include needed ones\n",
    "shp = os.path.join(tempspace, 'OutlierStarts_wFlikr_cells.shp')\n",
    "fcList = [field.name for field in arcpy.ListFields(shp)]   # list fields\n",
    "fcList.remove('Flikr_ID_1'); fcList.remove('Starts_ID'); fcList.remove('FID'); fcList.remove('Shape') #pop off keepers  (Flokr_ID_1 is autogenerated when the 2nd merge is done)\n",
    "for field in fcList:\n",
    "        arcpy.DeleteField_management(shp, fcList)  # delete extranious fields\n",
    "        \n",
    "# Do a table join to add the outlier fliker ids (Flikr_ID_1) to the almost master key table\n",
    "shp1 = os.path.join(tempspace, 'starts_wGridCells_wPaths_wEnds_wFlikr_cells.shp')\n",
    "shp2 = os.path.join(tempspace, 'OutlierStarts_wFlikr_cells.shp')\n",
    "arcpy.management.JoinField(shp1, 'Starts_ID', shp2, 'Starts_ID')"
   ]
  },
  {
   "cell_type": "markdown",
   "metadata": {},
   "source": [
    "## Map the correct flikr endpoint column onto each OSDS point/row"
   ]
  },
  {
   "cell_type": "code",
   "execution_count": 12,
   "metadata": {},
   "outputs": [
    {
     "data": {
      "text/plain": [
       "<Result '..\\\\workspace_shp\\\\workspace\\\\tempspace'>"
      ]
     },
     "execution_count": 12,
     "metadata": {},
     "output_type": "execute_result"
    }
   ],
   "source": [
    "# read on OSDS data from shapefile and make reasonable pandas dataframe \n",
    "osds_path = os.path.join(workspace, 'Mokai_OSDS_wGridCells.shp')\n",
    "columns_nams = [field.name for field in arcpy.ListFields(osds_path)]\n",
    "columns_nams.pop(1)  # remove stupid shape col\n",
    "temparr = arcpy.da.FeatureClassToNumPyArray(osds_path, columns_nams)\n",
    "OSDS_wGrid = pd.DataFrame(temparr)\n",
    "\n",
    "# read the paths data from shapefile into a pandas dataframe\n",
    "paths_path = os.path.join(tempspace, 'starts_wGridCells_wPaths_wEnds_wFlikr_cells.shp')\n",
    "columns_nams = [field.name for field in arcpy.ListFields(paths_path)]\n",
    "columns_nams.pop(1)  # remove stupid shape col\n",
    "temparr = arcpy.da.FeatureClassToNumPyArray(paths_path, columns_nams)\n",
    "paths_wGridtemp =  pd.DataFrame(temparr)\n",
    "carelist = ['Starts_ID', 'Grid_ID', 'Flikr_ID', 'Flikr_ID_1']  # cut to only wanted cols\n",
    "paths_wGrid = paths_wGridtemp[carelist].copy()\n",
    "# merge the outliers with the full path ones\n",
    "paths_wGrid['Flikr_IDmerged'] = np.where(paths_wGrid['Flikr_ID'] == \" \", paths_wGrid['Flikr_ID_1'], paths_wGrid['Flikr_ID'])\n",
    "del paths_wGrid['Flikr_ID_1']; del paths_wGrid['Flikr_ID']\n",
    "\n",
    "# merge the OSDS and flikr cell dataframes (a DF where each row is an OSDS and has the corresponding 250m endbox cell)\n",
    "OSDS_with_FlikrEnd = OSDS_wGrid.merge(paths_wGrid, on='Grid_ID', how='left')\n",
    "\n",
    "# rename columns \n",
    "OSDS_with_FlikrEnd = OSDS_with_FlikrEnd.rename(columns={ 'Flikr_IDmerged':'Flikr_ID'})   # 'Cess_ID':\"Uid\",? rename the cespool ID for some reason\n",
    "\n",
    "\n",
    "# Add in flikr cell endpoint columns here\n",
    "# NOte this is bringing in the original Fliker grid shapefile to extract out the points again\n",
    "fpath = os.path.join(\"..\", \"workspace_shp\", \"Flikr_MoKai_250_cells_wMidpoints.shp\")\n",
    "columns_nams = [field.name for field in arcpy.ListFields(fpath)]\n",
    "columns_nams.pop(1)  # remove stupid shape col\n",
    "temparr = arcpy.da.FeatureClassToNumPyArray(fpath, columns_nams)\n",
    "Flikpoints_df = pd.DataFrame(temparr)\n",
    "del Flikpoints_df[\"FID\"]\n",
    "\n",
    "OSDS_with_FlikrEnd = OSDS_with_FlikrEnd.merge(Flikpoints_df, on='Flikr_ID', how='left')\n",
    "\n",
    "# Convert CSV to shapefile of the OSDS points with the Flikr \n",
    "OSDS_with_FlikrEnd.to_csv(os.path.join(tempspace, 'EsriIsTrash2.csv'))\n",
    "XFieldName = 'X'\n",
    "YFieldName = 'Y'\n",
    "spatialRef = arcpy.SpatialReference(4326)\n",
    "csvFilePath = os.path.join(tempspace, 'EsriIsTrash2.csv')\n",
    "shpFilePath = os.path.join(tempspace)\n",
    "\n",
    "arcpy.MakeXYEventLayer_management(csvFilePath, XFieldName, YFieldName, 'MoKai_OSDS_with_FlikrEnd_temp', spatial_reference=spatialRef)\n",
    "arcpy.FeatureClassToShapefile_conversion('MoKai_OSDS_with_FlikrEnd_temp', shpFilePath)\n"
   ]
  },
  {
   "cell_type": "markdown",
   "metadata": {},
   "source": [
    "### Deal with the few OSDS units that smoehow didnt get a flikr cell\n",
    "just assign them to the geographically nearest one. "
   ]
  },
  {
   "cell_type": "code",
   "execution_count": 13,
   "metadata": {},
   "outputs": [
    {
     "data": {
      "text/plain": [
       "<Result '..\\\\workspace_shp'>"
      ]
     },
     "execution_count": 13,
     "metadata": {},
     "output_type": "execute_result"
    }
   ],
   "source": [
    "in_features =    os.path.join(tempspace, 'MoKai_OSDS_with_FlikrEnd_temp.shp')\n",
    "arcpy.MakeFeatureLayer_management (in_features, \"ESRI_is_lame\")\n",
    "\n",
    "#Create stupid separate layer for just the outliers\n",
    "query = \"Flikr_ID = ''\"    # Where Flikr ID is null\n",
    "arcpy.SelectLayerByAttribute_management('ESRI_is_lame', \"NEW_SELECTION\", query)\n",
    "arcpy.CopyFeatures_management('ESRI_is_lame', os.path.join(tempspace, \"ESRI_is_idiotic.shp\"))\n",
    "\n",
    "# Do the spatial join to Flikr cells\n",
    "target_features = os.path.join(tempspace, \"ESRI_is_idiotic.shp\")\n",
    "join_features = os.path.join(\"..\", \"workspace_shp\", \"Flikr_MoKai_250_cells_wMidpoints.shp\")\n",
    "out_features =    os.path.join(tempspace, 'OutlierStarts_wFlikr_cells2.shp')\n",
    "arcpy.SpatialJoin_analysis(target_features, join_features, out_features, match_option=\"CLOSEST\")\n",
    "\n",
    "## Clean up the fields in the outlier shp to only include needed ones\n",
    "shp = os.path.join(tempspace, 'OutlierStarts_wFlikr_cells2.shp')\n",
    "fcList = [field.name for field in arcpy.ListFields(shp)]   # list fields\n",
    "fcList.remove('Flikr_ID_1'); fcList.remove('Uid'); fcList.remove('FID'); fcList.remove('Shape') #pop off keepers  (Flokr_ID_1 is autogenerated when the 2nd merge is done)\n",
    "for field in fcList:\n",
    "        arcpy.DeleteField_management(shp, fcList)  # delete extranious fields\n",
    "\n",
    "# read the paths data from shapefile into a pandas dataframe\n",
    "paths_path = os.path.join(tempspace, 'OutlierStarts_wFlikr_cells2.shp')\n",
    "columns_nams = [field.name for field in arcpy.ListFields(paths_path)]\n",
    "columns_nams.pop(1)  # remove stupid shape col\n",
    "temparr = arcpy.da.FeatureClassToNumPyArray(paths_path, columns_nams)\n",
    "Outlier_starts_DF =  pd.DataFrame(temparr)\n",
    "\n",
    "# read the paths data from shapefile into a pandas dataframe\n",
    "paths_path = os.path.join(tempspace, 'MoKai_OSDS_with_FlikrEnd_temp.shp')\n",
    "columns_nams = [field.name for field in arcpy.ListFields(paths_path)]\n",
    "columns_nams.pop(1)  # remove stupid shape col\n",
    "temparr = arcpy.da.FeatureClassToNumPyArray(paths_path, columns_nams)\n",
    "OSDS_flkrEndTmp_DF =  pd.DataFrame(temparr)\n",
    "\n",
    "# Do the merge addin on the outliers to the goodframe \n",
    "OSDS_flkrEndTmp_DF_merge = OSDS_flkrEndTmp_DF.merge(Outlier_starts_DF, on='Uid', how='left')\n",
    "\n",
    "# Merge the flikr IDs with the replacements for the nanns\n",
    "OSDS_flkrEndTmp_DF_merge['Flikr_IDmerged2'] = np.where(OSDS_flkrEndTmp_DF_merge['Flikr_ID'] == \" \", OSDS_flkrEndTmp_DF_merge['Flikr_ID_1'], OSDS_flkrEndTmp_DF_merge['Flikr_ID'])\n",
    "del OSDS_flkrEndTmp_DF_merge['Flikr_ID_1']; del OSDS_flkrEndTmp_DF_merge['Flikr_ID']\n",
    "\n",
    "# rename columns \n",
    "OSDS_flkrEndTmp_DF_merge = OSDS_flkrEndTmp_DF_merge.rename(columns={ 'Flikr_IDmerged2':'Flikr_ID'})   # 'Cess_ID':\"Uid\",? rename the cespool ID for some reason\n",
    "#Cut out extranious columns\n",
    "carelist = [\"TMK\", \"EFFLUENT\", \"X\", \"Y\", \"Uid\", \"Grid_ID\", \"Flikr_X\", \"Flikr_Y\", \"Flikr_ID\"]\n",
    "OSDS_flkrEndTmp_DF_merge = OSDS_flkrEndTmp_DF_merge[carelist]\n",
    "\n",
    "\n",
    "# Convert CSV to shapefile of the OSDS points with the Flikr \n",
    "OSDS_flkrEndTmp_DF_merge.to_csv(os.path.join(tempspace, 'EsriIsTrash3.csv'))\n",
    "XFieldName = 'X'\n",
    "YFieldName = 'Y'\n",
    "spatialRef = arcpy.SpatialReference(4326)\n",
    "csvFilePath = os.path.join(tempspace, 'EsriIsTrash3.csv')\n",
    "shpFilePath = os.path.join(\"..\", 'workspace_shp')\n",
    "\n",
    "arcpy.MakeXYEventLayer_management(csvFilePath, XFieldName, YFieldName, 'MoKai_OSDS_with_FlikrEnd', spatial_reference=spatialRef)\n",
    "arcpy.FeatureClassToShapefile_conversion('MoKai_OSDS_with_FlikrEnd', shpFilePath)"
   ]
  },
  {
   "cell_type": "code",
   "execution_count": 25,
   "metadata": {},
   "outputs": [],
   "source": [
    "\n"
   ]
  },
  {
   "cell_type": "code",
   "execution_count": 28,
   "metadata": {},
   "outputs": [],
   "source": [
    "\n"
   ]
  },
  {
   "cell_type": "code",
   "execution_count": null,
   "metadata": {},
   "outputs": [],
   "source": [
    "\n"
   ]
  },
  {
   "cell_type": "code",
   "execution_count": null,
   "metadata": {},
   "outputs": [],
   "source": []
  },
  {
   "cell_type": "code",
   "execution_count": 23,
   "metadata": {},
   "outputs": [],
   "source": []
  },
  {
   "cell_type": "code",
   "execution_count": null,
   "metadata": {
    "collapsed": true
   },
   "outputs": [],
   "source": []
  }
 ],
 "metadata": {
  "kernelspec": {
   "display_name": "Python 3",
   "language": "python",
   "name": "python3"
  },
  "language_info": {
   "codemirror_mode": {
    "name": "ipython",
    "version": 3
   },
   "file_extension": ".py",
   "mimetype": "text/x-python",
   "name": "python",
   "nbconvert_exporter": "python",
   "pygments_lexer": "ipython3",
   "version": "3.6.2"
  }
 },
 "nbformat": 4,
 "nbformat_minor": 2
}
